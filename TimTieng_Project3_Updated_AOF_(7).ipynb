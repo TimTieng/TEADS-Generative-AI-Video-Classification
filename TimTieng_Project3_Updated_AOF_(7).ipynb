{
  "cells": [
    {
      "cell_type": "markdown",
      "metadata": {
        "id": "view-in-github",
        "colab_type": "text"
      },
      "source": [
        "<a href=\"https://colab.research.google.com/github/TimTieng/TEADS-Generative-AI-Video-Classification/blob/main/TimTieng_Project3_Updated_AOF_(7).ipynb\" target=\"_parent\"><img src=\"https://colab.research.google.com/assets/colab-badge.svg\" alt=\"Open In Colab\"/></a>"
      ]
    },
    {
      "cell_type": "markdown",
      "metadata": {
        "id": "E7idd-13b8OW"
      },
      "source": [
        "### Technology Excellence - Advanced Data Science (TEADS) - Generative AI Video Classification Project\n",
        "\n",
        "#####  **Project Authors:** Tim Tieng and Afia Owusu-Forfie\n",
        "\n",
        "##### **Dates:** April 22, 2024 to April 26, 2024\n",
        "\n",
        "##### **Team Name:** Team 5 - AI Now\n",
        "\n",
        "##### **Project Module:** Data Collection and Preparation\n",
        "\n",
        "**Objective**: Develop a model to classify video content into categories such as sports, news, movies, etc., and enhance this classification by generating descriptive captions or summaries that provide additional context about the content. This can be particularly useful for content curation platforms, accessibility applications (e.g., providing descriptions for the hearing impaired), or educational tools where supplementary information enhances learning.\n",
        "\n",
        "**Data**: Public Dataset: Use a dataset like the YouTube-8M, which has a vast collection of labeled video data suitable for training video classification models."
      ]
    },
    {
      "cell_type": "code",
      "execution_count": 1,
      "metadata": {
        "colab": {
          "base_uri": "https://localhost:8080/"
        },
        "id": "OyGbVgVIb8OY",
        "outputId": "515735e3-2336-4c1f-d504-38b1bf4470c5"
      },
      "outputs": [
        {
          "output_type": "stream",
          "name": "stdout",
          "text": [
            "Requirement already satisfied: chardet in /usr/local/lib/python3.10/dist-packages (5.2.0)\n"
          ]
        }
      ],
      "source": [
        "!pip install chardet"
      ]
    },
    {
      "cell_type": "code",
      "source": [
        "!pip install feature_engine"
      ],
      "metadata": {
        "colab": {
          "base_uri": "https://localhost:8080/"
        },
        "id": "MxKJ2RwTe2Pt",
        "outputId": "6b407a46-ed4b-494a-81aa-ed787aab5f7b"
      },
      "execution_count": 2,
      "outputs": [
        {
          "output_type": "stream",
          "name": "stdout",
          "text": [
            "Requirement already satisfied: feature_engine in /usr/local/lib/python3.10/dist-packages (1.7.0)\n",
            "Requirement already satisfied: numpy>=1.18.2 in /usr/local/lib/python3.10/dist-packages (from feature_engine) (1.25.2)\n",
            "Requirement already satisfied: pandas>=2.2.0 in /usr/local/lib/python3.10/dist-packages (from feature_engine) (2.2.2)\n",
            "Requirement already satisfied: scikit-learn>=1.4.0 in /usr/local/lib/python3.10/dist-packages (from feature_engine) (1.4.2)\n",
            "Requirement already satisfied: scipy>=1.4.1 in /usr/local/lib/python3.10/dist-packages (from feature_engine) (1.11.4)\n",
            "Requirement already satisfied: statsmodels>=0.11.1 in /usr/local/lib/python3.10/dist-packages (from feature_engine) (0.14.2)\n",
            "Requirement already satisfied: python-dateutil>=2.8.2 in /usr/local/lib/python3.10/dist-packages (from pandas>=2.2.0->feature_engine) (2.8.2)\n",
            "Requirement already satisfied: pytz>=2020.1 in /usr/local/lib/python3.10/dist-packages (from pandas>=2.2.0->feature_engine) (2023.4)\n",
            "Requirement already satisfied: tzdata>=2022.7 in /usr/local/lib/python3.10/dist-packages (from pandas>=2.2.0->feature_engine) (2024.1)\n",
            "Requirement already satisfied: joblib>=1.2.0 in /usr/local/lib/python3.10/dist-packages (from scikit-learn>=1.4.0->feature_engine) (1.4.0)\n",
            "Requirement already satisfied: threadpoolctl>=2.0.0 in /usr/local/lib/python3.10/dist-packages (from scikit-learn>=1.4.0->feature_engine) (3.4.0)\n",
            "Requirement already satisfied: patsy>=0.5.6 in /usr/local/lib/python3.10/dist-packages (from statsmodels>=0.11.1->feature_engine) (0.5.6)\n",
            "Requirement already satisfied: packaging>=21.3 in /usr/local/lib/python3.10/dist-packages (from statsmodels>=0.11.1->feature_engine) (24.0)\n",
            "Requirement already satisfied: six in /usr/local/lib/python3.10/dist-packages (from patsy>=0.5.6->statsmodels>=0.11.1->feature_engine) (1.16.0)\n"
          ]
        }
      ]
    },
    {
      "cell_type": "code",
      "source": [
        "#!pip install -r requirements.txt --use-deprecated=legacy-resolver"
      ],
      "metadata": {
        "id": "9Equ_LSRfT8O"
      },
      "execution_count": 3,
      "outputs": []
    },
    {
      "cell_type": "code",
      "execution_count": 4,
      "metadata": {
        "id": "qKhyJW5Rb8OY"
      },
      "outputs": [],
      "source": [
        "# Import Packages for project\n",
        "\n",
        "# Standard Libraries\n",
        "import numpy as np\n",
        "import os\n",
        "import pandas as pd\n",
        "\n",
        "# Data Visualization\n",
        "import matplotlib.pyplot as plt\n",
        "import seaborn as sns\n",
        "\n",
        "# Algorithms, Modeling and Data Pre-processing\n",
        "\n",
        "import feature_engine\n",
        "from feature_engine.encoding import OrdinalEncoder\n",
        "from feature_engine.transformation import YeoJohnsonTransformer\n",
        "from scipy.stats import anderson, chi2_contingency\n",
        "from sklearn.impute import SimpleImputer\n",
        "from sklearn.model_selection import train_test_split, GridSearchCV, RandomizedSearchCV\n",
        "from sklearn.metrics import classification_report,confusion_matrix,accuracy_score,f1_score,precision_score, roc_auc_score,recall_score\n",
        "from sklearn.preprocessing import MinMaxScaler, StandardScaler\n",
        "import statsmodels.api as sm\n",
        "from statsmodels.stats.outliers_influence import variance_inflation_factor\n",
        "\n",
        "# Deep Learning\n",
        "import keras\n",
        "from keras import layers\n",
        "from keras.layers import RandomFlip, RandomRotation, Rescaling, BatchNormalization, Conv2D, MaxPooling2D, Dense, Input\n",
        "from keras.models import Model, Sequential\n",
        "from keras.optimizers import Adam, SGD\n",
        "import tensorflow as tf\n",
        "from tensorflow import keras\n",
        "from tensorflow.keras import callbacks\n",
        "from tensorflow.keras.preprocessing.image import ImageDataGenerator\n",
        "\n",
        "# Model Optimization and Hyperparameter Tuning\n",
        "import hyperopt\n",
        "from hyperopt import STATUS_OK, Trials, fmin, tpe, hp\n",
        "#import mlflow\n",
        "\n",
        "import tensorboard"
      ]
    },
    {
      "cell_type": "code",
      "source": [
        "# unzipping the files in the frame-sample zip folder\n",
        "!unzip \"/content/frame-sample.zip\" -d '/content/frame-sample'"
      ],
      "metadata": {
        "colab": {
          "base_uri": "https://localhost:8080/"
        },
        "id": "Vt0hMy6qhnGH",
        "outputId": "d5e87e1f-db38-4d62-b75d-c0ae67cd80ef"
      },
      "execution_count": 12,
      "outputs": [
        {
          "output_type": "stream",
          "name": "stdout",
          "text": [
            "Archive:  /content/frame-sample.zip\n",
            "  End-of-central-directory signature not found.  Either this file is not\n",
            "  a zipfile, or it constitutes one disk of a multi-part archive.  In the\n",
            "  latter case the central directory and zipfile comment will be found on\n",
            "  the last disk(s) of this archive.\n",
            "unzip:  cannot find zipfile directory in one of /content/frame-sample.zip or\n",
            "        /content/frame-sample.zip.zip, and cannot find /content/frame-sample.zip.ZIP, period.\n"
          ]
        }
      ]
    },
    {
      "cell_type": "markdown",
      "source": [
        "For some reason the same !unzip command does not work for frame-sample.zip eventhough it works for validate-sample.zip"
      ],
      "metadata": {
        "id": "DHgq9TepCWFs"
      }
    },
    {
      "cell_type": "code",
      "source": [
        "# unzipping the files in the validate-sample zip folder\n",
        "!unzip '/content/validate-sample.zip' -d '/content/validate-sample'"
      ],
      "metadata": {
        "colab": {
          "base_uri": "https://localhost:8080/"
        },
        "id": "qZD1ibGoiKZj",
        "outputId": "97a5851c-3bcd-427c-c39b-1ee7b7087b01"
      },
      "execution_count": 13,
      "outputs": [
        {
          "output_type": "stream",
          "name": "stdout",
          "text": [
            "Archive:  /content/validate-sample.zip\n",
            "replace /content/validate-sample/validate/validate01.tfrecord? [y]es, [n]o, [A]ll, [N]one, [r]ename: "
          ]
        }
      ]
    },
    {
      "cell_type": "code",
      "execution_count": 14,
      "metadata": {
        "colab": {
          "base_uri": "https://localhost:8080/"
        },
        "id": "l5Jh01UXb8OZ",
        "outputId": "0befa4d7-060a-40fe-9a8e-752624276c86"
      },
      "outputs": [
        {
          "output_type": "stream",
          "name": "stdout",
          "text": [
            "Frame Directory Data Present: ['train00.tfrecord', 'train01.tfrecord']\n",
            "Validation Directory Data Present: ['validate00.tfrecord', 'validate01.tfrecord']\n"
          ]
        }
      ],
      "source": [
        "# Obtain the data - Due to issues with larger dataset, the project group is using the dataset provided via kaggle competition that used youtube-8M data\n",
        "\n",
        "frame_level_record1 = \"/content/frame-sample/frame/train00.tfrecord\"\n",
        "frame_level_record2 = \"/content/frame-sample/frame/train01.tfrecord\"\n",
        "validation_level_record1 = \"/content/validate-sample/validate/validate00.tfrecord\"\n",
        "validation_level_record2 = \"/content/validate-sample/validate/validate01.tfrecord\"\n",
        "print(f\"Frame Directory Data Present: {os.listdir('/content/frame-sample/frame')}\")\n",
        "print(f\"Validation Directory Data Present: {os.listdir('/content/validate-sample/validate')}\")\n"
      ]
    },
    {
      "cell_type": "markdown",
      "metadata": {
        "id": "mcULBLSwb8Oa"
      },
      "source": [
        "This confirms that we have frame-level data and validation data loaded into our project directory."
      ]
    },
    {
      "cell_type": "markdown",
      "metadata": {
        "id": "8syY591vb8Oa"
      },
      "source": [
        "Extract Video-Level Information from the frame-level files: train00.tfrecord"
      ]
    },
    {
      "cell_type": "markdown",
      "metadata": {
        "id": "ONMPvuuDb8Oa"
      },
      "source": [
        "### Tim Test/Experimental code begins here"
      ]
    },
    {
      "cell_type": "code",
      "execution_count": null,
      "metadata": {
        "id": "GPKp6Qfub8Oa"
      },
      "outputs": [],
      "source": [
        "def parse_tfrecord(example_proto):\n",
        "    \"\"\"\n",
        "    Parses a single example from a TFRecord file into a tensor suitable for training or evaluation.\n",
        "\n",
        "    This function defines and uses a fixed schema to parse each example in the TFRecord file. The schema is defined using\n",
        "    TensorFlow's parsing functions which map the data from a serialized `tf.train.Example` protobuf to tensors. The keys\n",
        "    in the `feature_description` dictionary specify the expected features in the TFRecord, and their corresponding values\n",
        "    define the type and shape of the data.\n",
        "\n",
        "    Parameters:\n",
        "    example_proto (tf.Tensor): A tensor containing a serialized `tf.train.Example` protobuf.\n",
        "\n",
        "    Returns:\n",
        "    dict: A dictionary where each key corresponds to a feature specified in the TFRecord schema. Each value is a\n",
        "    TensorFlow tensor. The keys and their respective tensors are:\n",
        "        - 'id': A tensor containing the unique identifier of the video. This is a scalar string tensor.\n",
        "        - 'labels': A sparse tensor containing a list of integer labels associated with the video.\n",
        "        - 'rgb': A dense tensor of shape [1024] containing the RGB features of the video frame.\n",
        "        - 'audio': A dense tensor of shape [128] containing the audio features of the video frame.\n",
        "        - 'segment_start_times': (Optional) A sparse tensor containing start times for each labeled segment.\n",
        "        - 'segment_end_times': (Optional) A sparse tensor containing end times for each labeled segment.\n",
        "        - 'segment_labels': (Optional) A sparse tensor containing labels for each segment.\n",
        "        - 'segment_scores': (Optional) A sparse tensor containing binary scores indicating positive or negative sentiment for each segment label.\n",
        "\n",
        "    The optional keys ('segment_start_times', 'segment_end_times', 'segment_labels', 'segment_scores') should be uncommented\n",
        "    in the feature description if segment-level data is being processed.\n",
        "\n",
        "    Example:\n",
        "    To use this function, ensure it is mapped over a dataset created from a TFRecord file, like so:\n",
        "    dataset = tf.data.TFRecordDataset(\"path_to_tfrecord_file.tfrecord\")\n",
        "    parsed_dataset = dataset.map(parse_tfrecord)\n",
        "    \"\"\"\n",
        "\n",
        "    # Define your feature description\n",
        "    feature_description = {\n",
        "        'id': tf.io.FixedLenFeature([], tf.string),\n",
        "        'labels': tf.io.VarLenFeature(tf.int64),\n",
        "        'rgb': tf.io.FixedLenFeature([1024], tf.float32, default_value=np.zeros([1024], dtype=np.float32)),\n",
        "        'audio': tf.io.FixedLenFeature([128], tf.float32, default_value=np.zeros([128], dtype=np.float32)),\n",
        "        # Uncomment these if you're handling segment data\n",
        "        'segment_start_times': tf.io.VarLenFeature(tf.int64),\n",
        "        'segment_end_times': tf.io.VarLenFeature(tf.int64),\n",
        "        'segment_labels': tf.io.VarLenFeature(tf.int64),\n",
        "        'segment_scores': tf.io.VarLenFeature(tf.float32),\n",
        "    }\n",
        "    return tf.io.parse_single_example(example_proto, feature_description)"
      ]
    },
    {
      "cell_type": "code",
      "execution_count": null,
      "metadata": {
        "id": "uKmHyEb3b8Oa"
      },
      "outputs": [],
      "source": [
        "def load_dataset(file_path):\n",
        "    \"\"\"\n",
        "    Purpose: To take load tfrecord files for future manipulation\n",
        "    Arguments: a filepath or variable that stores a filepath to a tfrecord file\n",
        "    \"\"\"\n",
        "    raw_dataset = tf.data.TFRecordDataset(file_path)\n",
        "    parsed_dataset = raw_dataset.map(parse_tfrecord) # map the data\n",
        "    return parsed_dataset"
      ]
    },
    {
      "cell_type": "code",
      "execution_count": null,
      "metadata": {
        "id": "1zsK6NK2b8Ob"
      },
      "outputs": [],
      "source": [
        "# Create a dataset object using the load_dataset() which calls in parse_tfrecord()\n",
        "dataset = load_dataset(frame_level_record1)"
      ]
    },
    {
      "cell_type": "code",
      "execution_count": null,
      "metadata": {
        "id": "AVX-v6Beb8Ob"
      },
      "outputs": [],
      "source": [
        "#View and inspect parsed dataset of train00.tfrecord\n",
        "dataset.element_spec"
      ]
    },
    {
      "cell_type": "markdown",
      "metadata": {
        "id": "UtjhizZwb8Ob"
      },
      "source": [
        "descriptive stats on segments\n",
        "\n",
        "pd dataframe - only import\n",
        "\n",
        "Figure out how to access data of a tensorflow mapdata object"
      ]
    },
    {
      "cell_type": "code",
      "execution_count": null,
      "metadata": {
        "id": "bgZju71ib8Ob"
      },
      "outputs": [],
      "source": [
        "type(dataset)"
      ]
    },
    {
      "cell_type": "code",
      "execution_count": null,
      "metadata": {
        "id": "TNh0nqAGb8Ob"
      },
      "outputs": [],
      "source": [
        "# Since there are over observations, printing only the first 20\n",
        "for index, item in enumerate(dataset.as_numpy_iterator()):\n",
        "    if index < 10:\n",
        "        print(item)\n",
        "    else:\n",
        "        break"
      ]
    },
    {
      "cell_type": "markdown",
      "metadata": {
        "id": "6HNIsCzyb8Ob"
      },
      "source": [
        "### Observations\n",
        "\n",
        "We can see a each record can have numerous label values. The values in the label list of each item can be mapped to the values in the vocabulary data dictionary.\n",
        "\n",
        "**Audio** - this is an empty list that was pre-populated with np.zeroes during the collection phase\n",
        "\n",
        "**RGB** - like audio, this is an array or np.zeros\n",
        "\n",
        "**Segment_X** thes are all empty arrays. these features are labeled as optional as per youtube-8m documenation\n"
      ]
    },
    {
      "cell_type": "code",
      "source": [
        "#added by Afia\n",
        "!pip install pandas\n",
        "import pandas as pd\n"
      ],
      "metadata": {
        "id": "5Vc2IQa2lWOT"
      },
      "execution_count": null,
      "outputs": []
    },
    {
      "cell_type": "markdown",
      "source": [
        "This code did NOT work in the Colab environment for Afia eventhough it worked for Tim"
      ],
      "metadata": {
        "id": "Cnr__eDxJOFL"
      }
    },
    {
      "cell_type": "code",
      "execution_count": null,
      "metadata": {
        "id": "5dHupRpob8Oc"
      },
      "outputs": [],
      "source": [
        "# # Read in the vocabulary csv file\n",
        "# vocab_path = \"/content/vocabulary.csv\"\n",
        "# vocab= pd.read_csv(vocab_path)\n",
        "# vocab_df = pd.DataFrame(vocab)\n",
        "\n",
        "# vocab_df"
      ]
    },
    {
      "cell_type": "code",
      "execution_count": null,
      "metadata": {
        "id": "MyHFAiKYb8Oc"
      },
      "outputs": [],
      "source": [
        "# unique_labels = vocab_df['Name'].unique()\n",
        "# unique_labels"
      ]
    },
    {
      "cell_type": "code",
      "execution_count": null,
      "metadata": {
        "id": "_w7P6_IMb8Oc"
      },
      "outputs": [],
      "source": [
        "# unique_label_count = vocab_df['Name'].nunique()\n",
        "# print(f\"Unique Video Labels: {unique_label_count}\")"
      ]
    },
    {
      "cell_type": "markdown",
      "source": [
        "## Tim Test/Experimental code ends here"
      ],
      "metadata": {
        "id": "3iOnUbr4JiZa"
      }
    },
    {
      "cell_type": "code",
      "source": [
        "## Experimenting with information from Kaggle User: Kranti Kumar\n",
        "# https://www.kaggle.com/code/jagannathrk/analysis-youtube8m-2019"
      ],
      "metadata": {
        "id": "D-T0qcOkrMZB"
      },
      "execution_count": 16,
      "outputs": []
    },
    {
      "cell_type": "code",
      "source": [
        "frame_lvl_record = \"/content/frame-sample/frame/train00.tfrecord\""
      ],
      "metadata": {
        "id": "x9q9-ZyHrVPe"
      },
      "execution_count": 15,
      "outputs": []
    },
    {
      "cell_type": "code",
      "execution_count": 17,
      "metadata": {
        "colab": {
          "base_uri": "https://localhost:8080/"
        },
        "id": "KPFe0aSnb8Oc",
        "outputId": "f7a355fa-419d-457c-ba4a-b1a85f1e2d72"
      },
      "outputs": [
        {
          "output_type": "stream",
          "name": "stdout",
          "text": [
            "['train00.tfrecord', 'train01.tfrecord']\n",
            "['validate00.tfrecord', 'validate01.tfrecord']\n"
          ]
        }
      ],
      "source": [
        "print(os.listdir(\"/content/frame-sample/frame\"))\n",
        "print(os.listdir(\"/content/validate-sample/validate\"))"
      ]
    },
    {
      "cell_type": "code",
      "source": [
        "!pip install pandas"
      ],
      "metadata": {
        "colab": {
          "base_uri": "https://localhost:8080/"
        },
        "id": "2pzYVep_DOND",
        "outputId": "b787c385-973b-4d8f-a7fe-1014021caf25"
      },
      "execution_count": 18,
      "outputs": [
        {
          "output_type": "stream",
          "name": "stdout",
          "text": [
            "Requirement already satisfied: pandas in /usr/local/lib/python3.10/dist-packages (2.2.2)\n",
            "Requirement already satisfied: numpy>=1.22.4 in /usr/local/lib/python3.10/dist-packages (from pandas) (1.25.2)\n",
            "Requirement already satisfied: python-dateutil>=2.8.2 in /usr/local/lib/python3.10/dist-packages (from pandas) (2.8.2)\n",
            "Requirement already satisfied: pytz>=2020.1 in /usr/local/lib/python3.10/dist-packages (from pandas) (2023.4)\n",
            "Requirement already satisfied: tzdata>=2022.7 in /usr/local/lib/python3.10/dist-packages (from pandas) (2024.1)\n",
            "Requirement already satisfied: six>=1.5 in /usr/local/lib/python3.10/dist-packages (from python-dateutil>=2.8.2->pandas) (1.16.0)\n"
          ]
        }
      ]
    },
    {
      "cell_type": "code",
      "source": [
        "import pandas as pd"
      ],
      "metadata": {
        "id": "FLEQl4pEDTyB"
      },
      "execution_count": 19,
      "outputs": []
    },
    {
      "cell_type": "code",
      "source": [
        "sub = pd.read_csv('/content/sample_submission.csv')\n",
        "sub.info()\n"
      ],
      "metadata": {
        "colab": {
          "base_uri": "https://localhost:8080/"
        },
        "id": "pHcPG3ZeC15q",
        "outputId": "25bd518d-cb13-4795-e04f-aac1c8f013b8"
      },
      "execution_count": 20,
      "outputs": [
        {
          "output_type": "stream",
          "name": "stdout",
          "text": [
            "<class 'pandas.core.frame.DataFrame'>\n",
            "RangeIndex: 1000 entries, 0 to 999\n",
            "Data columns (total 2 columns):\n",
            " #   Column    Non-Null Count  Dtype \n",
            "---  ------    --------------  ----- \n",
            " 0   Class     1000 non-null   int64 \n",
            " 1   Segments  1000 non-null   object\n",
            "dtypes: int64(1), object(1)\n",
            "memory usage: 15.8+ KB\n"
          ]
        }
      ]
    },
    {
      "cell_type": "code",
      "source": [
        "# sub.head() #did NOT work"
      ],
      "metadata": {
        "id": "XadzhwdeDjW8"
      },
      "execution_count": 21,
      "outputs": []
    },
    {
      "cell_type": "markdown",
      "source": [
        "Exploring Data (TFRecord format) using a subsample of the YouTube-8M video & frame-level data."
      ],
      "metadata": {
        "id": "O7O8w2Z0r5kT"
      }
    },
    {
      "cell_type": "code",
      "source": [
        "# from tensorflow import python_io #python_io broke the code. do NOT use"
      ],
      "metadata": {
        "id": "NfNQBnqSukwY"
      },
      "execution_count": 22,
      "outputs": []
    },
    {
      "cell_type": "code",
      "source": [
        "!pip show tensorflow #added by Afia"
      ],
      "metadata": {
        "colab": {
          "base_uri": "https://localhost:8080/"
        },
        "id": "XDd6QYVvvYdn",
        "outputId": "fa814144-324a-4411-e13e-98788361ee94"
      },
      "execution_count": 23,
      "outputs": [
        {
          "output_type": "stream",
          "name": "stdout",
          "text": [
            "Name: tensorflow\n",
            "Version: 2.15.0\n",
            "Summary: TensorFlow is an open source machine learning framework for everyone.\n",
            "Home-page: https://www.tensorflow.org/\n",
            "Author: Google Inc.\n",
            "Author-email: packages@tensorflow.org\n",
            "License: Apache 2.0\n",
            "Location: /usr/local/lib/python3.10/dist-packages\n",
            "Requires: absl-py, astunparse, flatbuffers, gast, google-pasta, grpcio, h5py, keras, libclang, ml-dtypes, numpy, opt-einsum, packaging, protobuf, setuptools, six, tensorboard, tensorflow-estimator, tensorflow-io-gcs-filesystem, termcolor, typing-extensions, wrapt\n",
            "Required-by: dopamine-rl, tf_keras\n"
          ]
        }
      ]
    },
    {
      "cell_type": "markdown",
      "source": [
        "1st attempt did NOT work. Threw this error: AttributeError: module 'tensorflow' has no attribute 'python_io'\n"
      ],
      "metadata": {
        "id": "SW5I01G7KAaa"
      }
    },
    {
      "cell_type": "code",
      "source": [
        "# vid_ids = []\n",
        "# labels = []\n",
        "\n",
        "# for example in tf.python_io.tf_record_iterator(frame_lvl_record):\n",
        "#     tf_example = tf.train.Example.FromString(example)\n",
        "#     vid_ids.append(tf_example.features.feature['id']\n",
        "#                    .bytes_list.value[0].decode(encoding='UTF-8'))\n",
        "#     labels.append(tf_example.features.feature['labels'].int64_list.value)"
      ],
      "metadata": {
        "id": "zDRyIaQruZoY"
      },
      "execution_count": null,
      "outputs": []
    },
    {
      "cell_type": "markdown",
      "source": [
        "2nd attempt also did NOT work. Threw this error: AttributeError: module 'tensorflow._api.v2.io' has no attribute 'tf_record_iterator'\n"
      ],
      "metadata": {
        "id": "xHP0cxYmKNtR"
      }
    },
    {
      "cell_type": "code",
      "source": [
        "# import tensorflow as tf\n",
        "\n",
        "# vid_ids = []\n",
        "# labels = []\n",
        "\n",
        "# for example in tf.io.tf_record_iterator(frame_lvl_record):\n",
        "#     tf_example = tf.train.Example.FromString(example)\n",
        "#     vid_ids.append(tf_example.features.feature['id']\n",
        "#                    .bytes_list.value[0].decode(encoding='UTF-8'))\n",
        "#     labels.append(tf_example.features.feature['labels'].int64_list.value)"
      ],
      "metadata": {
        "id": "izVsWhJ-vjjk"
      },
      "execution_count": null,
      "outputs": []
    },
    {
      "cell_type": "markdown",
      "source": [
        "Using the suggested code by Colab, the third attempt worked!"
      ],
      "metadata": {
        "id": "gnIBuLmNKWr1"
      }
    },
    {
      "cell_type": "code",
      "source": [
        "!pip install tensorflow==2.8\n",
        "\n",
        "import tensorflow as tf\n",
        "\n",
        "vid_ids = []\n",
        "labels = []\n",
        "\n",
        "for example in tf.compat.v1.io.tf_record_iterator(frame_lvl_record):\n",
        "    tf_example = tf.train.Example.FromString(example)\n",
        "    vid_ids.append(tf_example.features.feature['id']\n",
        "                   .bytes_list.value[0].decode(encoding='UTF-8'))\n",
        "    labels.append(tf_example.features.feature['labels'].int64_list.value)"
      ],
      "metadata": {
        "colab": {
          "base_uri": "https://localhost:8080/",
          "height": 1000
        },
        "id": "L7lU3u38vztu",
        "outputId": "4a4e0b11-3a87-4a0a-f2e9-7d9af177f600"
      },
      "execution_count": 27,
      "outputs": [
        {
          "output_type": "stream",
          "name": "stdout",
          "text": [
            "Collecting tensorflow==2.8\n",
            "  Downloading tensorflow-2.8.0-cp310-cp310-manylinux2010_x86_64.whl (497.6 MB)\n",
            "\u001b[2K     \u001b[90m━━━━━━━━━━━━━━━━━━━━━━━━━━━━━━━━━━━━━━━━\u001b[0m \u001b[32m497.6/497.6 MB\u001b[0m \u001b[31m822.6 kB/s\u001b[0m eta \u001b[36m0:00:00\u001b[0m\n",
            "\u001b[?25hRequirement already satisfied: absl-py>=0.4.0 in /usr/local/lib/python3.10/dist-packages (from tensorflow==2.8) (1.4.0)\n",
            "Requirement already satisfied: astunparse>=1.6.0 in /usr/local/lib/python3.10/dist-packages (from tensorflow==2.8) (1.6.3)\n",
            "Requirement already satisfied: flatbuffers>=1.12 in /usr/local/lib/python3.10/dist-packages (from tensorflow==2.8) (24.3.25)\n",
            "Requirement already satisfied: gast>=0.2.1 in /usr/local/lib/python3.10/dist-packages (from tensorflow==2.8) (0.5.4)\n",
            "Requirement already satisfied: google-pasta>=0.1.1 in /usr/local/lib/python3.10/dist-packages (from tensorflow==2.8) (0.2.0)\n",
            "Requirement already satisfied: h5py>=2.9.0 in /usr/local/lib/python3.10/dist-packages (from tensorflow==2.8) (3.9.0)\n",
            "Collecting keras-preprocessing>=1.1.1 (from tensorflow==2.8)\n",
            "  Downloading Keras_Preprocessing-1.1.2-py2.py3-none-any.whl (42 kB)\n",
            "\u001b[2K     \u001b[90m━━━━━━━━━━━━━━━━━━━━━━━━━━━━━━━━━━━━━━━━\u001b[0m \u001b[32m42.6/42.6 kB\u001b[0m \u001b[31m1.7 MB/s\u001b[0m eta \u001b[36m0:00:00\u001b[0m\n",
            "\u001b[?25hRequirement already satisfied: libclang>=9.0.1 in /usr/local/lib/python3.10/dist-packages (from tensorflow==2.8) (18.1.1)\n",
            "Requirement already satisfied: numpy>=1.20 in /usr/local/lib/python3.10/dist-packages (from tensorflow==2.8) (1.25.2)\n",
            "Requirement already satisfied: opt-einsum>=2.3.2 in /usr/local/lib/python3.10/dist-packages (from tensorflow==2.8) (3.3.0)\n",
            "Requirement already satisfied: protobuf>=3.9.2 in /usr/local/lib/python3.10/dist-packages (from tensorflow==2.8) (3.20.3)\n",
            "Requirement already satisfied: setuptools in /usr/local/lib/python3.10/dist-packages (from tensorflow==2.8) (67.7.2)\n",
            "Requirement already satisfied: six>=1.12.0 in /usr/local/lib/python3.10/dist-packages (from tensorflow==2.8) (1.16.0)\n",
            "Requirement already satisfied: termcolor>=1.1.0 in /usr/local/lib/python3.10/dist-packages (from tensorflow==2.8) (2.4.0)\n",
            "Requirement already satisfied: typing-extensions>=3.6.6 in /usr/local/lib/python3.10/dist-packages (from tensorflow==2.8) (4.11.0)\n",
            "Requirement already satisfied: wrapt>=1.11.0 in /usr/local/lib/python3.10/dist-packages (from tensorflow==2.8) (1.14.1)\n",
            "Collecting tensorboard<2.9,>=2.8 (from tensorflow==2.8)\n",
            "  Downloading tensorboard-2.8.0-py3-none-any.whl (5.8 MB)\n",
            "\u001b[2K     \u001b[90m━━━━━━━━━━━━━━━━━━━━━━━━━━━━━━━━━━━━━━━━\u001b[0m \u001b[32m5.8/5.8 MB\u001b[0m \u001b[31m1.9 MB/s\u001b[0m eta \u001b[36m0:00:00\u001b[0m\n",
            "\u001b[?25hCollecting tf-estimator-nightly==2.8.0.dev2021122109 (from tensorflow==2.8)\n",
            "  Downloading tf_estimator_nightly-2.8.0.dev2021122109-py2.py3-none-any.whl (462 kB)\n",
            "\u001b[2K     \u001b[90m━━━━━━━━━━━━━━━━━━━━━━━━━━━━━━━━━━━━━━━━\u001b[0m \u001b[32m462.5/462.5 kB\u001b[0m \u001b[31m1.9 MB/s\u001b[0m eta \u001b[36m0:00:00\u001b[0m\n",
            "\u001b[?25hCollecting keras<2.9,>=2.8.0rc0 (from tensorflow==2.8)\n",
            "  Downloading keras-2.8.0-py2.py3-none-any.whl (1.4 MB)\n",
            "\u001b[2K     \u001b[90m━━━━━━━━━━━━━━━━━━━━━━━━━━━━━━━━━━━━━━━━\u001b[0m \u001b[32m1.4/1.4 MB\u001b[0m \u001b[31m1.6 MB/s\u001b[0m eta \u001b[36m0:00:00\u001b[0m\n",
            "\u001b[?25hRequirement already satisfied: tensorflow-io-gcs-filesystem>=0.23.1 in /usr/local/lib/python3.10/dist-packages (from tensorflow==2.8) (0.36.0)\n",
            "Requirement already satisfied: grpcio<2.0,>=1.24.3 in /usr/local/lib/python3.10/dist-packages (from tensorflow==2.8) (1.62.2)\n",
            "Requirement already satisfied: wheel<1.0,>=0.23.0 in /usr/local/lib/python3.10/dist-packages (from astunparse>=1.6.0->tensorflow==2.8) (0.43.0)\n",
            "Requirement already satisfied: google-auth<3,>=1.6.3 in /usr/local/lib/python3.10/dist-packages (from tensorboard<2.9,>=2.8->tensorflow==2.8) (2.27.0)\n",
            "Collecting google-auth-oauthlib<0.5,>=0.4.1 (from tensorboard<2.9,>=2.8->tensorflow==2.8)\n",
            "  Downloading google_auth_oauthlib-0.4.6-py2.py3-none-any.whl (18 kB)\n",
            "Requirement already satisfied: markdown>=2.6.8 in /usr/local/lib/python3.10/dist-packages (from tensorboard<2.9,>=2.8->tensorflow==2.8) (3.6)\n",
            "Requirement already satisfied: requests<3,>=2.21.0 in /usr/local/lib/python3.10/dist-packages (from tensorboard<2.9,>=2.8->tensorflow==2.8) (2.31.0)\n",
            "Collecting tensorboard-data-server<0.7.0,>=0.6.0 (from tensorboard<2.9,>=2.8->tensorflow==2.8)\n",
            "  Downloading tensorboard_data_server-0.6.1-py3-none-manylinux2010_x86_64.whl (4.9 MB)\n",
            "\u001b[2K     \u001b[90m━━━━━━━━━━━━━━━━━━━━━━━━━━━━━━━━━━━━━━━━\u001b[0m \u001b[32m4.9/4.9 MB\u001b[0m \u001b[31m1.5 MB/s\u001b[0m eta \u001b[36m0:00:00\u001b[0m\n",
            "\u001b[?25hCollecting tensorboard-plugin-wit>=1.6.0 (from tensorboard<2.9,>=2.8->tensorflow==2.8)\n",
            "  Downloading tensorboard_plugin_wit-1.8.1-py3-none-any.whl (781 kB)\n",
            "\u001b[2K     \u001b[90m━━━━━━━━━━━━━━━━━━━━━━━━━━━━━━━━━━━━━━━━\u001b[0m \u001b[32m781.3/781.3 kB\u001b[0m \u001b[31m1.8 MB/s\u001b[0m eta \u001b[36m0:00:00\u001b[0m\n",
            "\u001b[?25hRequirement already satisfied: werkzeug>=0.11.15 in /usr/local/lib/python3.10/dist-packages (from tensorboard<2.9,>=2.8->tensorflow==2.8) (3.0.2)\n",
            "Requirement already satisfied: cachetools<6.0,>=2.0.0 in /usr/local/lib/python3.10/dist-packages (from google-auth<3,>=1.6.3->tensorboard<2.9,>=2.8->tensorflow==2.8) (5.3.3)\n",
            "Requirement already satisfied: pyasn1-modules>=0.2.1 in /usr/local/lib/python3.10/dist-packages (from google-auth<3,>=1.6.3->tensorboard<2.9,>=2.8->tensorflow==2.8) (0.4.0)\n",
            "Requirement already satisfied: rsa<5,>=3.1.4 in /usr/local/lib/python3.10/dist-packages (from google-auth<3,>=1.6.3->tensorboard<2.9,>=2.8->tensorflow==2.8) (4.9)\n",
            "Requirement already satisfied: requests-oauthlib>=0.7.0 in /usr/local/lib/python3.10/dist-packages (from google-auth-oauthlib<0.5,>=0.4.1->tensorboard<2.9,>=2.8->tensorflow==2.8) (1.3.1)\n",
            "Requirement already satisfied: charset-normalizer<4,>=2 in /usr/local/lib/python3.10/dist-packages (from requests<3,>=2.21.0->tensorboard<2.9,>=2.8->tensorflow==2.8) (3.3.2)\n",
            "Requirement already satisfied: idna<4,>=2.5 in /usr/local/lib/python3.10/dist-packages (from requests<3,>=2.21.0->tensorboard<2.9,>=2.8->tensorflow==2.8) (3.7)\n",
            "Requirement already satisfied: urllib3<3,>=1.21.1 in /usr/local/lib/python3.10/dist-packages (from requests<3,>=2.21.0->tensorboard<2.9,>=2.8->tensorflow==2.8) (2.0.7)\n",
            "Requirement already satisfied: certifi>=2017.4.17 in /usr/local/lib/python3.10/dist-packages (from requests<3,>=2.21.0->tensorboard<2.9,>=2.8->tensorflow==2.8) (2024.2.2)\n",
            "Requirement already satisfied: MarkupSafe>=2.1.1 in /usr/local/lib/python3.10/dist-packages (from werkzeug>=0.11.15->tensorboard<2.9,>=2.8->tensorflow==2.8) (2.1.5)\n",
            "Requirement already satisfied: pyasn1<0.7.0,>=0.4.6 in /usr/local/lib/python3.10/dist-packages (from pyasn1-modules>=0.2.1->google-auth<3,>=1.6.3->tensorboard<2.9,>=2.8->tensorflow==2.8) (0.6.0)\n",
            "Requirement already satisfied: oauthlib>=3.0.0 in /usr/local/lib/python3.10/dist-packages (from requests-oauthlib>=0.7.0->google-auth-oauthlib<0.5,>=0.4.1->tensorboard<2.9,>=2.8->tensorflow==2.8) (3.2.2)\n",
            "Installing collected packages: tf-estimator-nightly, tensorboard-plugin-wit, keras, tensorboard-data-server, keras-preprocessing, google-auth-oauthlib, tensorboard, tensorflow\n",
            "  Attempting uninstall: keras\n",
            "    Found existing installation: keras 2.15.0\n",
            "    Uninstalling keras-2.15.0:\n",
            "      Successfully uninstalled keras-2.15.0\n",
            "  Attempting uninstall: tensorboard-data-server\n",
            "    Found existing installation: tensorboard-data-server 0.7.2\n",
            "    Uninstalling tensorboard-data-server-0.7.2:\n",
            "      Successfully uninstalled tensorboard-data-server-0.7.2\n",
            "  Attempting uninstall: google-auth-oauthlib\n",
            "    Found existing installation: google-auth-oauthlib 1.2.0\n",
            "    Uninstalling google-auth-oauthlib-1.2.0:\n",
            "      Successfully uninstalled google-auth-oauthlib-1.2.0\n",
            "  Attempting uninstall: tensorboard\n",
            "    Found existing installation: tensorboard 2.15.2\n",
            "    Uninstalling tensorboard-2.15.2:\n",
            "      Successfully uninstalled tensorboard-2.15.2\n",
            "  Attempting uninstall: tensorflow\n",
            "    Found existing installation: tensorflow 2.15.0\n",
            "    Uninstalling tensorflow-2.15.0:\n",
            "      Successfully uninstalled tensorflow-2.15.0\n",
            "\u001b[31mERROR: pip's dependency resolver does not currently take into account all the packages that are installed. This behaviour is the source of the following dependency conflicts.\n",
            "pandas-gbq 0.19.2 requires google-auth-oauthlib>=0.7.0, but you have google-auth-oauthlib 0.4.6 which is incompatible.\n",
            "tf-keras 2.15.1 requires tensorflow<2.16,>=2.15, but you have tensorflow 2.8.0 which is incompatible.\u001b[0m\u001b[31m\n",
            "\u001b[0mSuccessfully installed google-auth-oauthlib-0.4.6 keras-2.8.0 keras-preprocessing-1.1.2 tensorboard-2.8.0 tensorboard-data-server-0.6.1 tensorboard-plugin-wit-1.8.1 tensorflow-2.8.0 tf-estimator-nightly-2.8.0.dev2021122109\n"
          ]
        },
        {
          "output_type": "display_data",
          "data": {
            "application/vnd.colab-display-data+json": {
              "pip_warning": {
                "packages": [
                  "keras",
                  "tensorboard",
                  "tensorflow"
                ]
              },
              "id": "d736e0c163ac4d3891aa29056d13d8f5"
            }
          },
          "metadata": {}
        }
      ]
    },
    {
      "cell_type": "markdown",
      "source": [],
      "metadata": {
        "id": "9qHrhuAZKfY2"
      }
    },
    {
      "cell_type": "markdown",
      "source": [
        "The third attempt was re-run without the pip and import lines above"
      ],
      "metadata": {
        "id": "FN5BmuAEKjhg"
      }
    },
    {
      "cell_type": "code",
      "source": [
        "\n",
        "vid_ids = []\n",
        "labels = []\n",
        "\n",
        "for example in tf.compat.v1.io.tf_record_iterator(frame_lvl_record):\n",
        "    tf_example = tf.train.Example.FromString(example)\n",
        "    vid_ids.append(tf_example.features.feature['id']\n",
        "                   .bytes_list.value[0].decode(encoding='UTF-8'))\n",
        "    labels.append(tf_example.features.feature['labels'].int64_list.value)"
      ],
      "metadata": {
        "id": "P4tAQLXIwjxc"
      },
      "execution_count": 28,
      "outputs": []
    },
    {
      "cell_type": "code",
      "source": [
        "print('Number of videos in this tfrecord: ',len(vid_ids))\n",
        "print ('Number of labels in this tfrecord: ', len (labels))\n",
        "print('Picking a youtube video id:',vid_ids[15])"
      ],
      "metadata": {
        "colab": {
          "base_uri": "https://localhost:8080/"
        },
        "id": "_W-UGZO_wuCc",
        "outputId": "d6766523-6f33-4968-f236-ae562c74e8e4"
      },
      "execution_count": 29,
      "outputs": [
        {
          "output_type": "stream",
          "name": "stdout",
          "text": [
            "Number of videos in this tfrecord:  1015\n",
            "Number of labels in this tfrecord:  1015\n",
            "Picking a youtube video id: FF00\n"
          ]
        }
      ]
    },
    {
      "cell_type": "markdown",
      "source": [
        "As described on the YouTube8M download page, for privacy reasons, the video id has been randomly generated and does not directly correspond to the actual YouTube video id. To convert the id into the actual YouTube video id, we follow link: http://data.yt8m.org/2/j/i/UL/UL00.js\n",
        "For more information, go here: https://www.kaggle.com/code/inversion/starter-kernel-yt8m-2019-sample-data"
      ],
      "metadata": {
        "id": "8tcoV-z7D-Nz"
      }
    },
    {
      "cell_type": "code",
      "source": [
        "\n",
        "from IPython.display import YouTubeVideo #without this line, YouTubeVideo will NOT work"
      ],
      "metadata": {
        "id": "rJ9jgeH3xzVT"
      },
      "execution_count": 30,
      "outputs": []
    },
    {
      "cell_type": "code",
      "source": [
        "# With that video id, we can play the video\n",
        "YouTubeVideo('UzXQaOLQVCU')\n",
        "# You can view directly on YouTube at: https://www.youtube.com/watch?v=UzXQaOLQVCU"
      ],
      "metadata": {
        "colab": {
          "base_uri": "https://localhost:8080/",
          "height": 321
        },
        "id": "RViOexhxw4hT",
        "outputId": "79b52fda-cd48-44f7-bbc3-3bdf0621bfc2"
      },
      "execution_count": 31,
      "outputs": [
        {
          "output_type": "execute_result",
          "data": {
            "text/plain": [
              "<IPython.lib.display.YouTubeVideo at 0x7a2d5e2e3250>"
            ],
            "text/html": [
              "\n",
              "        <iframe\n",
              "            width=\"400\"\n",
              "            height=\"300\"\n",
              "            src=\"https://www.youtube.com/embed/UzXQaOLQVCU\"\n",
              "            frameborder=\"0\"\n",
              "            allowfullscreen\n",
              "            \n",
              "        ></iframe>\n",
              "        "
            ],
            "image/jpeg": "[encoded data removed]"
          },
          "metadata": {},
          "execution_count": 31
        }
      ]
    },
    {
      "cell_type": "code",
      "source": [
        "print(vid_ids)"
      ],
      "metadata": {
        "colab": {
          "base_uri": "https://localhost:8080/"
        },
        "id": "v2DwVT0B_reK",
        "outputId": "12291d38-5ccb-4aa3-8b11-278c165735b5"
      },
      "execution_count": 32,
      "outputs": [
        {
          "output_type": "stream",
          "name": "stdout",
          "text": [
            "['op00', 'O900', 'Oq00', 'Li00', '1300', 'gG00', 'xI00', 'i900', 'R100', 'sg00', '0900', 'gk00', 'VK00', 'UL00', 'R900', 'FF00', 'Jw00', 'nm00', 't600', '1J00', 'LT00', '4i00', 'L700', 'QA00', 'Ra00', 'rC00', 'pf00', '8h00', 'J400', 'fd00', 'Ut00', '0H00', 'dH00', 'Rc00', 'ie00', 'Ly00', 'mQ00', 'mY00', 'Q000', 'Mw00', 'Jh00', 'VQ00', 'rl00', 'T700', 'w200', 'Hs00', 'Zc00', 'sv00', 'X200', '0E00', 'am00', '9p00', 'ml00', 'Px00', 'IB00', '7300', '8r00', 'FD00', 'jj00', 'Us00', 'f600', 'wM00', 'a900', 'Nc00', 'mZ00', '4S00', 'MD00', 'b400', 'Wo00', 'oE00', 'ze00', 'lC00', 'NG00', 'Ea00', 'Xs00', 'ot00', '1c00', 'CV00', 'rh00', 'zw00', 'NA00', 'ln00', 'rE00', 'yV00', 'Xj00', 'Oy00', 'jP00', 'GI00', 'Br00', 'ZN00', 'XM00', 'l000', 'ig00', 'Yo00', '9l00', 'iY00', 'Rj00', 'yI00', 'Pb00', 'rV00', 'oF00', 'CO00', 'c400', 'Na00', 'mM00', 'GD00', 'Pl00', 'te00', 'WF00', 'u700', 'Hh00', '7d00', '1h00', 'O100', 'SG00', 'Uw00', '8400', 'lA00', 'WL00', 'd100', 'bw00', 'pR00', 'kg00', 'gc00', 'dJ00', '6k00', 'Rg00', 'BI00', '6i00', 'Ri00', 'bj00', 'JS00', 'Zp00', 'Bi00', 'as00', 'Qv00', 'c100', 'zr00', 'fH00', 'z500', 'Jd00', 'ki00', 'pA00', '0p00', 'MU00', 'j000', 'e500', 'vZ00', 'A500', 'iT00', '4q00', 's100', 'F100', 'Ci00', 'ua00', 'ij00', '1I00', 'QM00', 'D100', 'm600', 'nW00', 'Lk00', 'Gs00', 'C900', 'HW00', 'p800', '6v00', 'AY00', 'JB00', '0K00', 'GR00', 'nM00', 'ZM00', 'BM00', 'e000', 'Bj00', 'rs00', 'zq00', 'Iw00', 'pv00', 'QH00', 'Um00', 'bB00', 'Ol00', 'qQ00', 'Nx00', '9100', 'E100', 'GB00', 'pK00', 'TK00', 'Ft00', 'iz00', '8B00', 'Qn00', 'Qy00', 'lK00', 'Ad00', 'u300', 'Ry00', 'VR00', 'Xk00', '7R00', '4M00', 'df00', '8m00', 'vv00', 'z000', 'kR00', 'tR00', 'wF00', 'Zi00', 'aW00', 'wG00', 'Rv00', 'Nq00', '8c00', 'XA00', 'GP00', 'SC00', 'il00', 'K800', 'cY00', 'm800', '4T00', 'Te00', '7W00', 'Z000', 'ox00', '4400', 'Mj00', 'cD00', 'kj00', 'mU00', 'WZ00', 'VX00', 'PE00', 'r300', 'da00', 'dR00', 'P700', 'jf00', 'nE00', 'Kz00', 'CQ00', 'hS00', 'rF00', '3E00', 'xz00', '0i00', 'Zd00', 'QO00', 'lE00', 'ch00', 'vo00', '7y00', '6B00', 'vU00', 'Uo00', '4l00', 'C400', '0Z00', 'LA00', 'Q400', 'H300', 'S400', 'AT00', 'VY00', 'OR00', 'Tv00', 'Lf00', '5n00', 'co00', '0k00', '7a00', 'v600', 'Rx00', 'A100', '1Y00', 'j200', 'um00', '2800', 'BB00', 'Rf00', 'uY00', '3V00', 'Yq00', 'uF00', '1r00', 'Fq00', 'Ld00', '1X00', 'NV00', 'w500', 'F800', '9z00', 'fr00', 'wD00', '6O00', 'bS00', 'qj00', 'fu00', 'eW00', 'JA00', 'nB00', '9Y00', 'tn00', 'bN00', 'Jx00', 'Ox00', 'tS00', '0u00', 'gS00', '9r00', 'Og00', 'e700', 'b100', 'O000', 'r700', 'gu00', 'cq00', 'J900', 'sI00', '0s00', 'f200', 'X700', 'vr00', '5v00', 'dm00', 'xg00', '3B00', '0X00', 'Gj00', 'Jo00', 'mT00', 'Qo00', 'RP00', '2e00', 'rD00', 'eB00', 'xa00', 'iG00', 'ak00', 'N200', 're00', 'h500', '8d00', 'yF00', 'XF00', 'gp00', '3a00', '5G00', 'JU00', '3q00', '8s00', 'SA00', 'uB00', 'm500', 'q800', 'AP00', 'PR00', '7e00', 'mz00', 'Qt00', 'sD00', 'Cr00', 'e300', '8i00', 'im00', 'Vl00', 'oP00', 'Aj00', 'gs00', 'xC00', '8S00', '6600', 'U800', 'LS00', 'Uh00', '8800', 'z700', 'Gn00', '0Y00', 'fz00', 'Ag00', 'kw00', 'fy00', 'N000', 'KV00', 'QD00', 'tC00', 'RH00', 'Vb00', 'Vv00', 'us00', 'gw00', 'J500', 'Or00', 'Sc00', 'dD00', 'c200', 'xb00', 'qK00', 'Hd00', 'j100', '8l00', 'Wz00', '7Z00', 'kn00', 'xx00', 'Q200', 'MZ00', 'pW00', 'GY00', 'gL00', 'iy00', 'gt00', 'Os00', '3d00', 'Xt00', 'rN00', 'M200', 's200', 'x300', 'pc00', 'xi00', 'kr00', 'ZC00', 'Js00', 'xK00', 'hL00', 'BH00', 'Sm00', 'Du00', 'CY00', 'j700', 'Wr00', 'Q100', 'nX00', 'yZ00', 'ka00', 'lh00', 'f500', 'iw00', 'Bx00', 'bQ00', 'sk00', 'Yr00', 'Fl00', 'rT00', 'bA00', 'UC00', 'oT00', 'Uy00', 'yA00', '0V00', 'qF00', 'pl00', 'hq00', 'zX00', 'gy00', 'YM00', 'JY00', 'KU00', 'GL00', 'C300', 'jn00', '7O00', 'gb00', 'Le00', 'Ss00', 'II00', 'jx00', '9e00', '2900', '1p00', '4L00', 'sf00', 'ho00', 'ga00', 'NO00', 'uU00', 'Ka00', 'sM00', '3k00', 'ez00', 'cV00', 'UK00', '0o00', '8E00', 'SP00', 'iB00', '4u00', 'BQ00', 'Mq00', '7S00', 'tb00', '8e00', 'Kp00', 'NU00', 'Ue00', '8k00', 'Wd00', 'YC00', '5u00', 'xv00', '7600', '0N00', 'Q800', 'jY00', 'Xf00', 'ib00', 'T000', 'Cv00', 'RD00', 'du00', 'Jr00', 'rv00', 'jU00', 'Xi00', 'at00', 'MH00', 'jm00', 'J100', 'kQ00', '5D00', 'AU00', 'JG00', 'qL00', 'gV00', '3T00', 'Jc00', 'tl00', 'XE00', '8b00', 'H700', 'lx00', 'qf00', '3A00', 'Hf00', 'DZ00', 'XJ00', 'ks00', 'Yp00', '6M00', 'wZ00', 'So00', 'mX00', 'WK00', 'd200', 'UR00', '8V00', 'Sv00', 'eP00', 'T800', 'WU00', 'i800', 'wT00', 'IF00', 'ZG00', 'aN00', 'fG00', 'G900', 'dt00', '2s00', '7w00', 'zY00', 'th00', 'Y200', 'o400', 'ic00', '1f00', '1u00', '4b00', 'Bm00', '1g00', 'ia00', 'xO00', 'pk00', 'rd00', 'UJ00', 'VF00', 'C100', 'jT00', 'Ji00', 'To00', 'Gb00', 'TC00', 'nV00', 'ON00', 'a700', '1a00', 'mm00', 'yL00', 'GM00', 'CB00', 'Pa00', 'VB00', 'p600', 'wI00', 'rb00', '2S00', 'n900', 'Dp00', 'nx00', 'lb00', 'eY00', 'k100', '9d00', 'w600', '2u00', 'cH00', 'H500', 'ql00', '7b00', 'q000', '1s00', 'RG00', 'BN00', 'iu00', 'EW00', 'Ta00', 'WX00', 'zt00', 'gi00', 'LP00', 'tk00', 'E700', 'wV00', 'aU00', 'LM00', 'mL00', 'ec00', 'xu00', 'V400', '5j00', 'lV00', '3N00', 'WQ00', 'vB00', 'wm00', 'WG00', '9c00', 'nS00', 'Cj00', 'ae00', 'By00', 'Wa00', 'XW00', '1600', 'Up00', 'jD00', '6V00', 'Jt00', 'ZY00', 'R800', 'lS00', 'g300', 'K100', 'Yb00', 'P600', 'Yg00', 'Z500', 'CP00', 'NT00', 'MN00', 'ow00', 'pe00', 'rR00', 'Gk00', 'Dd00', 'q100', 'Di00', 'aO00', 'Go00', 'Ge00', 'ky00', '8500', 'P200', '7h00', '7j00', '8j00', 'lv00', 'CW00', 'uy00', 'qe00', 'nb00', 'Yl00', 'ZZ00', 'vq00', 'Ty00', 'tp00', 'wW00', 'xc00', '4z00', 'IA00', 'Vy00', 'uq00', 'gh00', 'fx00', 'DQ00', '3p00', '2P00', '2p00', 'GE00', 'PY00', 'Vt00', 'Po00', '9H00', 'Nb00', 'lN00', '6U00', 'G600', 'Lr00', '9O00', 'aI00', 'xf00', 'Wg00', '2000', 'bu00', 'NB00', 'ra00', '2Z00', 'Ou00', 'lj00', 'dL00', '8Z00', '4N00', 'oR00', 'Np00', 'qw00', 'Tx00', 'KB00', 'yd00', 'Au00', 'hi00', 'Do00', 'bG00', '9V00', '5W00', 'Kr00', 'R700', 'id00', 'KA00', 'KN00', 'ym00', 'A000', 'rL00', 'nN00', 'p500', '1O00', 'ex00', 'Tf00', 'wX00', 's600', 'DS00', 'Ju00', 'SO00', 'Dn00', 'dG00', 'z100', 'RK00', 'ZR00', 'FN00', 'OS00', 'OC00', 'wJ00', 'bC00', 'Dw00', 'kS00', 'wK00', 'RQ00', 'S800', 'V500', 'iL00', '6b00', '6c00', 'VP00', 'dh00', '6w00', 'ob00', 'jA00', 'EA00', 'BD00', 'Mg00', 'o600', 'mx00', 'Fn00', '1700', 'ms00', 'rf00', 'rG00', '0c00', 'XU00', '1t00', 'zM00', 'ti00', 'Fu00', 'sJ00', 'xl00', 'sm00', 'zE00', '4R00', 'FR00', 'pm00', '1800', 'ZV00', 'BA00', 'YV00', 'zV00', 'wN00', 'n800', 'Q500', 'fw00', 'vj00', 'jc00', 'YI00', 'mi00', 'g000', '4m00', 'fv00', 'EJ00', 'nD00', 'Bq00', 'XY00', 'R500', 'UB00', 'TF00', '3L00', 'Et00', 'b900', 'wp00', 'b800', '9T00', 'VD00', 'yb00', 'D800', 'Gt00', '7C00', '1100', '1F00', '7000', 'En00', 'Ct00', 'wl00', 'YK00', 'xn00', 'TA00', 'VU00', 'v100', 'HF00', 'iP00', 'qE00', 'cW00', 'Az00', 'tq00', '6500', 'Jl00', '6z00', 'u400', 'g800', 'Qr00', '2X00', '9i00', '3l00', 'bO00', '0e00', 'fR00', 'kf00', 'cn00', 'L800', 'lf00', 'lO00', 'SL00', 'k200', 'fh00', 'e900', 'Qa00', 'Rw00', 'ES00', 'cU00', 'w700', 'ht00', 'Dg00', 'Jn00', '1Q00', 'lk00', 'lw00', 'IU00', 'mB00', 'FA00', 'vm00', 'O300', 'Tg00', '6N00', 'Vx00', 'g100', 'TD00', '0600', 'Uq00', 'Pr00', 'nQ00', 'TI00', 's700', 'e800', '0C00', 'Jg00', 'fc00', 'hB00', 'TG00', '6700', '9J00', 'Ex00', 'TZ00', 'YJ00', 'Mx00', 'RN00', 'oW00', '0O00', 'g500', 'lM00', 'HR00', 'Hb00', '5E00', 'm300', 'oy00', 'wd00', 'Xx00', '7H00', 'n200', 'yY00', 'dC00', 'P900', 'XI00', 'eQ00', 'zH00', 'kp00', 'aP00', '3D00', 'AN00', 'HU00', 'U200', 'RE00', 'fe00', '8N00', 'Uv00', 'V900', 'OJ00', 'gD00', 'In00', '3y00', '6o00', 'CR00', '0q00', '9500', 'yQ00', '6R00', '2D00', '7c00', 'PC00', 'nH00', 'Wt00', 'et00', 'vt00', '4v00', 'Vq00', '3r00', 'Mf00', 'jW00', 'UU00', 'G000', 'J300', 'go00', 'IZ00', 'B400', 'rO00', '0200', 'Vw00', 'Mv00', 'ub00', 'M500', 'va00', '2R00', 'Dy00', 'MJ00', 'vF00', 'U100', 'x600', 'wy00', 'CU00', 'WY00', 'S100', 'Iu00', 'SQ00', 'vJ00', 'mp00', '4A00', 'vS00', '6u00', 'Dh00', 'pI00', 'Tr00', 'Vr00', 'YR00', 'O400', 't000', '8u00', 'rr00', 'qm00', '7M00', '7U00', 'iq00', 'UE00', 'qC00', 'jO00']\n"
          ]
        }
      ]
    },
    {
      "cell_type": "code",
      "source": [
        "vid_ids[15]"
      ],
      "metadata": {
        "colab": {
          "base_uri": "https://localhost:8080/",
          "height": 36
        },
        "id": "LwpvWsGHBGCS",
        "outputId": "176fde1f-c8c1-414b-d46f-d670d164a5a7"
      },
      "execution_count": 33,
      "outputs": [
        {
          "output_type": "execute_result",
          "data": {
            "text/plain": [
              "'FF00'"
            ],
            "application/vnd.google.colaboratory.intrinsic+json": {
              "type": "string"
            }
          },
          "metadata": {},
          "execution_count": 33
        }
      ]
    },
    {
      "cell_type": "code",
      "source": [
        "labels[15]"
      ],
      "metadata": {
        "colab": {
          "base_uri": "https://localhost:8080/"
        },
        "id": "dKO4fIpUBZe-",
        "outputId": "edee60d5-913d-42ac-a2f0-b206445c0530"
      },
      "execution_count": 34,
      "outputs": [
        {
          "output_type": "execute_result",
          "data": {
            "text/plain": [
              "[14]"
            ]
          },
          "metadata": {},
          "execution_count": 34
        }
      ]
    },
    {
      "cell_type": "code",
      "source": [
        " YouTubeVideo('jO00') #does NOT work because the original YouTube id was stripped off."
      ],
      "metadata": {
        "colab": {
          "base_uri": "https://localhost:8080/",
          "height": 321
        },
        "id": "YitaI5f4AKM3",
        "outputId": "6778189c-0658-4c11-bb82-d3d55f6ecfa4"
      },
      "execution_count": 35,
      "outputs": [
        {
          "output_type": "execute_result",
          "data": {
            "text/plain": [
              "<IPython.lib.display.YouTubeVideo at 0x7a2d95e872e0>"
            ],
            "text/html": [
              "\n",
              "        <iframe\n",
              "            width=\"400\"\n",
              "            height=\"300\"\n",
              "            src=\"https://www.youtube.com/embed/jO00\"\n",
              "            frameborder=\"0\"\n",
              "            allowfullscreen\n",
              "            \n",
              "        ></iframe>\n",
              "        "
            ]
          },
          "metadata": {},
          "execution_count": 35
        }
      ]
    },
    {
      "cell_type": "code",
      "source": [
        " print(tf_example)"
      ],
      "metadata": {
        "colab": {
          "base_uri": "https://localhost:8080/"
        },
        "id": "ZX66UeUIAaLY",
        "outputId": "a24903dc-4235-4389-fff9-d874048e2fe9"
      },
      "execution_count": 36,
      "outputs": [
        {
          "output_type": "stream",
          "name": "stdout",
          "text": [
            "features {\n",
            "  feature {\n",
            "    key: \"id\"\n",
            "    value {\n",
            "      bytes_list {\n",
            "        value: \"jO00\"\n",
            "      }\n",
            "    }\n",
            "  }\n",
            "  feature {\n",
            "    key: \"labels\"\n",
            "    value {\n",
            "      int64_list {\n",
            "        value: 26\n",
            "        value: 194\n",
            "      }\n",
            "    }\n",
            "  }\n",
            "}\n",
            "\n"
          ]
        }
      ]
    },
    {
      "cell_type": "markdown",
      "source": [
        "To get the original id, go to http://data.yt8m.org/2/j/i/FF/FF00.js which was created by mimicking the format here: http://data.yt8m.org/2/j/i/UL/UL00.js"
      ],
      "metadata": {
        "id": "4pX-asVhH8PV"
      }
    },
    {
      "cell_type": "code",
      "source": [
        "YouTubeVideo(\"CuEjiRyQhvc\")"
      ],
      "metadata": {
        "colab": {
          "base_uri": "https://localhost:8080/",
          "height": 321
        },
        "id": "sCzehPXnEYnG",
        "outputId": "f570ae2c-7896-4496-ebda-fc512135850c"
      },
      "execution_count": 37,
      "outputs": [
        {
          "output_type": "execute_result",
          "data": {
            "text/plain": [
              "<IPython.lib.display.YouTubeVideo at 0x7a2cffaa1d80>"
            ],
            "text/html": [
              "\n",
              "        <iframe\n",
              "            width=\"400\"\n",
              "            height=\"300\"\n",
              "            src=\"https://www.youtube.com/embed/CuEjiRyQhvc\"\n",
              "            frameborder=\"0\"\n",
              "            allowfullscreen\n",
              "            \n",
              "        ></iframe>\n",
              "        "
            ],
            "image/jpeg": "[encoded data removed]"
          },
          "metadata": {},
          "execution_count": 37
        }
      ]
    },
    {
      "cell_type": "markdown",
      "source": [],
      "metadata": {
        "id": "j_WKjW4eK_Ld"
      }
    },
    {
      "cell_type": "code",
      "source": [
        "plt.style.use('ggplot')"
      ],
      "metadata": {
        "id": "4IRKZn3cLmvG"
      },
      "execution_count": 38,
      "outputs": []
    },
    {
      "cell_type": "code",
      "source": [
        "# # due to execution time, we're only going to read the first video\n",
        "\n",
        "# feat_rgb = []\n",
        "# feat_audio = []\n",
        "\n",
        "# for example in tf.compat.v1.io.tf_record_iterator(frame_lvl_record):  #changed from tf.python_io.tf_record_iterator by Afia\n",
        "#     tf_seq_example = tf.train.SequenceExample.FromString(example)\n",
        "#     n_frames = len(tf_seq_example.feature_lists.feature_list['audio'].feature)\n",
        "#     sess = tf.InteractiveSession()\n",
        "#     rgb_frame = []\n",
        "#     audio_frame = []\n",
        "#     # iterate through frames\n",
        "#     for i in range(n_frames):\n",
        "#         rgb_frame.append(tf.cast(tf.decode_raw(\n",
        "#                 tf_seq_example.feature_lists.feature_list['rgb']\n",
        "#                   .feature[i].bytes_list.value[0],tf.uint8)\n",
        "#                        ,tf.float32).eval())\n",
        "#         audio_frame.append(tf.cast(tf.decode_raw(\n",
        "#                 tf_seq_example.feature_lists.feature_list['audio']\n",
        "#                   .feature[i].bytes_list.value[0],tf.uint8)\n",
        "#                        ,tf.float32).eval())\n",
        "\n",
        "\n",
        "#     sess.close()\n",
        "\n",
        "#     feat_audio.append(audio_frame)\n",
        "#     feat_rgb.append(rgb_frame)\n",
        "#     break"
      ],
      "metadata": {
        "id": "6hEht2BSL67i"
      },
      "execution_count": null,
      "outputs": []
    },
    {
      "cell_type": "code",
      "source": [
        "#This line of code is needed to disable the \"eager execution\". More details on stackoverflow\n",
        "tf.compat.v1.disable_eager_execution()"
      ],
      "metadata": {
        "id": "FKRegnhQOyE4"
      },
      "execution_count": 39,
      "outputs": []
    },
    {
      "cell_type": "code",
      "source": [
        "# due to execution time, we're only going to read the first video\n",
        "\n",
        "feat_rgb = []\n",
        "feat_audio = []\n",
        "\n",
        "for example in tf.compat.v1.io.tf_record_iterator(frame_lvl_record):  #changed from tf.python_io.tf_record_iterator by Afia\n",
        "    tf_seq_example = tf.train.SequenceExample.FromString(example)\n",
        "    n_frames = len(tf_seq_example.feature_lists.feature_list['audio'].feature)\n",
        "    sess = tf.compat.v1.InteractiveSession()  #changed from tf.InteractiveSession()\n",
        "    rgb_frame = []\n",
        "    audio_frame = []\n",
        "    # iterate through frames\n",
        "    for i in range(n_frames):\n",
        "        rgb_frame.append(tf.cast(tf.io.decode_raw( #changed from tf.decode_raw by Afia\n",
        "                tf_seq_example.feature_lists.feature_list['rgb']\n",
        "                  .feature[i].bytes_list.value[0],tf.uint8)\n",
        "                      ,tf.float32).eval())\n",
        "        audio_frame.append(tf.cast(tf.io.decode_raw(\n",
        "                tf_seq_example.feature_lists.feature_list['audio']\n",
        "                  .feature[i].bytes_list.value[0],tf.uint8)\n",
        "                       ,tf.float32).eval())\n",
        "\n",
        "\n",
        "    sess.close()\n",
        "\n",
        "    feat_audio.append(audio_frame)\n",
        "    feat_rgb.append(rgb_frame)\n",
        "    break"
      ],
      "metadata": {
        "id": "tezHTVpAK-rm"
      },
      "execution_count": 40,
      "outputs": []
    },
    {
      "cell_type": "code",
      "source": [
        "print('The first video has %d frames' %len(feat_rgb[0]))"
      ],
      "metadata": {
        "colab": {
          "base_uri": "https://localhost:8080/"
        },
        "id": "aAvDNFtmPiP_",
        "outputId": "a1e07fb9-2e7b-4349-edda-cab35a93daa1"
      },
      "execution_count": 41,
      "outputs": [
        {
          "output_type": "stream",
          "name": "stdout",
          "text": [
            "The first video has 234 frames\n"
          ]
        }
      ]
    },
    {
      "cell_type": "markdown",
      "source": [
        "Vocabulary"
      ],
      "metadata": {
        "id": "Id3cCwvHWhum"
      }
    },
    {
      "cell_type": "code",
      "source": [
        "!pip install pandas"
      ],
      "metadata": {
        "id": "ts_EVkrCWzgU"
      },
      "execution_count": null,
      "outputs": []
    },
    {
      "cell_type": "code",
      "source": [
        "import pandas as pd"
      ],
      "metadata": {
        "id": "dRkXFnoWW4-U"
      },
      "execution_count": null,
      "outputs": []
    },
    {
      "cell_type": "code",
      "source": [
        "vocabulary = pd.read_csv('/content/vocabulary.csv')\n",
        "vocabulary.head()"
      ],
      "metadata": {
        "id": "eu7lIvO4WhFv"
      },
      "execution_count": null,
      "outputs": []
    }
  ],
  "metadata": {
    "kernelspec": {
      "display_name": "TechEx_Project_3",
      "language": "python",
      "name": "python3"
    },
    "language_info": {
      "codemirror_mode": {
        "name": "ipython",
        "version": 3
      },
      "file_extension": ".py",
      "mimetype": "text/x-python",
      "name": "python",
      "nbconvert_exporter": "python",
      "pygments_lexer": "ipython3",
      "version": "3.10.12"
    },
    "colab": {
      "provenance": [],
      "include_colab_link": true
    }
  },
  "nbformat": 4,
  "nbformat_minor": 0
}