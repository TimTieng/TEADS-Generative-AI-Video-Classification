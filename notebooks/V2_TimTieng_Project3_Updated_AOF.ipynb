{
 "cells": [
  {
   "cell_type": "code",
   "execution_count": 9,
   "metadata": {},
   "outputs": [
    {
     "name": "stdout",
     "output_type": "stream",
     "text": [
      "Requirement already satisfied: opencv-python in c:\\users\\638545\\appdata\\local\\anaconda3\\envs\\techex_project3\\lib\\site-packages (4.9.0.80)Note: you may need to restart the kernel to use updated packages.\n",
      "\n",
      "Requirement already satisfied: numpy>=1.21.2 in c:\\users\\638545\\appdata\\local\\anaconda3\\envs\\techex_project3\\lib\\site-packages (from opencv-python) (1.26.4)\n",
      "Requirement already satisfied: imageio in c:\\users\\638545\\appdata\\local\\anaconda3\\envs\\techex_project3\\lib\\site-packages (2.34.1)\n",
      "Requirement already satisfied: numpy in c:\\users\\638545\\appdata\\local\\anaconda3\\envs\\techex_project3\\lib\\site-packages (from imageio) (1.26.4)\n",
      "Requirement already satisfied: pillow>=8.3.2 in c:\\users\\638545\\appdata\\local\\anaconda3\\envs\\techex_project3\\lib\\site-packages (from imageio) (10.3.0)\n",
      "Note: you may need to restart the kernel to use updated packages.\n",
      "Requirement already satisfied: imutils in c:\\users\\638545\\appdata\\local\\anaconda3\\envs\\techex_project3\\lib\\site-packages (0.5.4)Note: you may need to restart the kernel to use updated packages.\n",
      "\n",
      "Requirement already satisfied: IPython in c:\\users\\638545\\appdata\\local\\anaconda3\\envs\\techex_project3\\lib\\site-packages (8.22.2)Note: you may need to restart the kernel to use updated packages.\n",
      "\n",
      "Requirement already satisfied: decorator in c:\\users\\638545\\appdata\\local\\anaconda3\\envs\\techex_project3\\lib\\site-packages (from IPython) (5.1.1)\n",
      "Requirement already satisfied: jedi>=0.16 in c:\\users\\638545\\appdata\\local\\anaconda3\\envs\\techex_project3\\lib\\site-packages (from IPython) (0.19.1)\n",
      "Requirement already satisfied: matplotlib-inline in c:\\users\\638545\\appdata\\local\\anaconda3\\envs\\techex_project3\\lib\\site-packages (from IPython) (0.1.7)\n",
      "Requirement already satisfied: prompt-toolkit<3.1.0,>=3.0.41 in c:\\users\\638545\\appdata\\local\\anaconda3\\envs\\techex_project3\\lib\\site-packages (from IPython) (3.0.42)\n",
      "Requirement already satisfied: pygments>=2.4.0 in c:\\users\\638545\\appdata\\local\\anaconda3\\envs\\techex_project3\\lib\\site-packages (from IPython) (2.17.2)\n",
      "Requirement already satisfied: stack-data in c:\\users\\638545\\appdata\\local\\anaconda3\\envs\\techex_project3\\lib\\site-packages (from IPython) (0.6.2)\n",
      "Requirement already satisfied: traitlets>=5.13.0 in c:\\users\\638545\\appdata\\local\\anaconda3\\envs\\techex_project3\\lib\\site-packages (from IPython) (5.14.3)\n",
      "Requirement already satisfied: exceptiongroup in c:\\users\\638545\\appdata\\local\\anaconda3\\envs\\techex_project3\\lib\\site-packages (from IPython) (1.2.0)\n",
      "Requirement already satisfied: colorama in c:\\users\\638545\\appdata\\local\\anaconda3\\envs\\techex_project3\\lib\\site-packages (from IPython) (0.4.6)\n",
      "Requirement already satisfied: parso<0.9.0,>=0.8.3 in c:\\users\\638545\\appdata\\local\\anaconda3\\envs\\techex_project3\\lib\\site-packages (from jedi>=0.16->IPython) (0.8.4)\n",
      "Requirement already satisfied: wcwidth in c:\\users\\638545\\appdata\\local\\anaconda3\\envs\\techex_project3\\lib\\site-packages (from prompt-toolkit<3.1.0,>=3.0.41->IPython) (0.2.13)\n",
      "Requirement already satisfied: executing>=1.2.0 in c:\\users\\638545\\appdata\\local\\anaconda3\\envs\\techex_project3\\lib\\site-packages (from stack-data->IPython) (2.0.1)\n",
      "Requirement already satisfied: asttokens>=2.1.0 in c:\\users\\638545\\appdata\\local\\anaconda3\\envs\\techex_project3\\lib\\site-packages (from stack-data->IPython) (2.4.1)\n",
      "Requirement already satisfied: pure-eval in c:\\users\\638545\\appdata\\local\\anaconda3\\envs\\techex_project3\\lib\\site-packages (from stack-data->IPython) (0.2.2)\n",
      "Requirement already satisfied: six>=1.12.0 in c:\\users\\638545\\appdata\\local\\anaconda3\\envs\\techex_project3\\lib\\site-packages (from asttokens>=2.1.0->stack-data->IPython) (1.16.0)\n",
      "Note: you may need to restart the kernel to use updated packages.\n"
     ]
    },
    {
     "name": "stderr",
     "output_type": "stream",
     "text": [
      "ERROR: Invalid requirement: '#added'\n"
     ]
    },
    {
     "name": "stdout",
     "output_type": "stream",
     "text": [
      "Note: you may need to restart the kernel to use updated packages.\n"
     ]
    },
    {
     "name": "stderr",
     "output_type": "stream",
     "text": [
      "ERROR: Invalid requirement: '#added'\n"
     ]
    }
   ],
   "source": [
    "%pip install opencv-python\n",
    "%pip install imageio\n",
    "%pip install imutils\n",
    "%pip install IPython\n"
   ]
  },
  {
   "cell_type": "markdown",
   "metadata": {},
   "source": [
    "Installations added by Afia"
   ]
  },
  {
   "cell_type": "code",
   "execution_count": 27,
   "metadata": {},
   "outputs": [
    {
     "name": "stdout",
     "output_type": "stream",
     "text": [
      "Requirement already satisfied: pandas in c:\\users\\638545\\appdata\\local\\anaconda3\\envs\\techex_project3\\lib\\site-packages (2.2.2)\n",
      "Requirement already satisfied: numpy>=1.22.4 in c:\\users\\638545\\appdata\\local\\anaconda3\\envs\\techex_project3\\lib\\site-packages (from pandas) (1.26.4)\n",
      "Requirement already satisfied: python-dateutil>=2.8.2 in c:\\users\\638545\\appdata\\local\\anaconda3\\envs\\techex_project3\\lib\\site-packages (from pandas) (2.9.0)\n",
      "Requirement already satisfied: pytz>=2020.1 in c:\\users\\638545\\appdata\\local\\anaconda3\\envs\\techex_project3\\lib\\site-packages (from pandas) (2024.1)\n",
      "Requirement already satisfied: tzdata>=2022.7 in c:\\users\\638545\\appdata\\local\\anaconda3\\envs\\techex_project3\\lib\\site-packages (from pandas) (2024.1)\n",
      "Requirement already satisfied: six>=1.5 in c:\\users\\638545\\appdata\\local\\anaconda3\\envs\\techex_project3\\lib\\site-packages (from python-dateutil>=2.8.2->pandas) (1.16.0)\n",
      "Note: you may need to restart the kernel to use updated packages.\n",
      "Requirement already satisfied: utils in c:\\users\\638545\\appdata\\local\\anaconda3\\envs\\techex_project3\\lib\\site-packages (1.0.2)Note: you may need to restart the kernel to use updated packages.\n",
      "\n",
      "Requirement already satisfied: matplotlib in c:\\users\\638545\\appdata\\local\\anaconda3\\envs\\techex_project3\\lib\\site-packages (3.8.4)\n",
      "Requirement already satisfied: contourpy>=1.0.1 in c:\\users\\638545\\appdata\\local\\anaconda3\\envs\\techex_project3\\lib\\site-packages (from matplotlib) (1.2.1)\n",
      "Requirement already satisfied: cycler>=0.10 in c:\\users\\638545\\appdata\\local\\anaconda3\\envs\\techex_project3\\lib\\site-packages (from matplotlib) (0.12.1)\n",
      "Requirement already satisfied: fonttools>=4.22.0 in c:\\users\\638545\\appdata\\local\\anaconda3\\envs\\techex_project3\\lib\\site-packages (from matplotlib) (4.51.0)\n",
      "Requirement already satisfied: kiwisolver>=1.3.1 in c:\\users\\638545\\appdata\\local\\anaconda3\\envs\\techex_project3\\lib\\site-packages (from matplotlib) (1.4.5)\n",
      "Requirement already satisfied: numpy>=1.21 in c:\\users\\638545\\appdata\\local\\anaconda3\\envs\\techex_project3\\lib\\site-packages (from matplotlib) (1.26.4)\n",
      "Requirement already satisfied: packaging>=20.0 in c:\\users\\638545\\appdata\\local\\anaconda3\\envs\\techex_project3\\lib\\site-packages (from matplotlib) (24.0)\n",
      "Requirement already satisfied: pillow>=8 in c:\\users\\638545\\appdata\\local\\anaconda3\\envs\\techex_project3\\lib\\site-packages (from matplotlib) (10.3.0)\n",
      "Requirement already satisfied: pyparsing>=2.3.1 in c:\\users\\638545\\appdata\\local\\anaconda3\\envs\\techex_project3\\lib\\site-packages (from matplotlib) (3.1.2)\n",
      "Requirement already satisfied: python-dateutil>=2.7 in c:\\users\\638545\\appdata\\local\\anaconda3\\envs\\techex_project3\\lib\\site-packages (from matplotlib) (2.9.0)\n",
      "Requirement already satisfied: six>=1.5 in c:\\users\\638545\\appdata\\local\\anaconda3\\envs\\techex_project3\\lib\\site-packages (from python-dateutil>=2.7->matplotlib) (1.16.0)\n",
      "Note: you may need to restart the kernel to use updated packages.\n",
      "Requirement already satisfied: seaborn in c:\\users\\638545\\appdata\\local\\anaconda3\\envs\\techex_project3\\lib\\site-packages (0.13.2)\n",
      "Requirement already satisfied: numpy!=1.24.0,>=1.20 in c:\\users\\638545\\appdata\\local\\anaconda3\\envs\\techex_project3\\lib\\site-packages (from seaborn) (1.26.4)\n",
      "Requirement already satisfied: pandas>=1.2 in c:\\users\\638545\\appdata\\local\\anaconda3\\envs\\techex_project3\\lib\\site-packages (from seaborn) (2.2.2)\n",
      "Requirement already satisfied: matplotlib!=3.6.1,>=3.4 in c:\\users\\638545\\appdata\\local\\anaconda3\\envs\\techex_project3\\lib\\site-packages (from seaborn) (3.8.4)\n",
      "Requirement already satisfied: contourpy>=1.0.1 in c:\\users\\638545\\appdata\\local\\anaconda3\\envs\\techex_project3\\lib\\site-packages (from matplotlib!=3.6.1,>=3.4->seaborn) (1.2.1)\n",
      "Requirement already satisfied: cycler>=0.10 in c:\\users\\638545\\appdata\\local\\anaconda3\\envs\\techex_project3\\lib\\site-packages (from matplotlib!=3.6.1,>=3.4->seaborn) (0.12.1)\n",
      "Requirement already satisfied: fonttools>=4.22.0 in c:\\users\\638545\\appdata\\local\\anaconda3\\envs\\techex_project3\\lib\\site-packages (from matplotlib!=3.6.1,>=3.4->seaborn) (4.51.0)\n",
      "Requirement already satisfied: kiwisolver>=1.3.1 in c:\\users\\638545\\appdata\\local\\anaconda3\\envs\\techex_project3\\lib\\site-packages (from matplotlib!=3.6.1,>=3.4->seaborn) (1.4.5)\n",
      "Requirement already satisfied: packaging>=20.0 in c:\\users\\638545\\appdata\\local\\anaconda3\\envs\\techex_project3\\lib\\site-packages (from matplotlib!=3.6.1,>=3.4->seaborn) (24.0)\n",
      "Requirement already satisfied: pillow>=8 in c:\\users\\638545\\appdata\\local\\anaconda3\\envs\\techex_project3\\lib\\site-packages (from matplotlib!=3.6.1,>=3.4->seaborn) (10.3.0)\n",
      "Requirement already satisfied: pyparsing>=2.3.1 in c:\\users\\638545\\appdata\\local\\anaconda3\\envs\\techex_project3\\lib\\site-packages (from matplotlib!=3.6.1,>=3.4->seaborn) (3.1.2)\n",
      "Requirement already satisfied: python-dateutil>=2.7 in c:\\users\\638545\\appdata\\local\\anaconda3\\envs\\techex_project3\\lib\\site-packages (from matplotlib!=3.6.1,>=3.4->seaborn) (2.9.0)\n",
      "Requirement already satisfied: pytz>=2020.1 in c:\\users\\638545\\appdata\\local\\anaconda3\\envs\\techex_project3\\lib\\site-packages (from pandas>=1.2->seaborn) (2024.1)\n",
      "Requirement already satisfied: tzdata>=2022.7 in c:\\users\\638545\\appdata\\local\\anaconda3\\envs\\techex_project3\\lib\\site-packages (from pandas>=1.2->seaborn) (2024.1)\n",
      "Requirement already satisfied: six>=1.5 in c:\\users\\638545\\appdata\\local\\anaconda3\\envs\\techex_project3\\lib\\site-packages (from python-dateutil>=2.7->matplotlib!=3.6.1,>=3.4->seaborn) (1.16.0)\n",
      "Note: you may need to restart the kernel to use updated packages.\n",
      "Requirement already satisfied: feature_engine in c:\\users\\638545\\appdata\\local\\anaconda3\\envs\\techex_project3\\lib\\site-packages (1.7.0)\n",
      "Requirement already satisfied: numpy>=1.18.2 in c:\\users\\638545\\appdata\\local\\anaconda3\\envs\\techex_project3\\lib\\site-packages (from feature_engine) (1.26.4)\n",
      "Requirement already satisfied: pandas>=2.2.0 in c:\\users\\638545\\appdata\\local\\anaconda3\\envs\\techex_project3\\lib\\site-packages (from feature_engine) (2.2.2)\n",
      "Requirement already satisfied: scikit-learn>=1.4.0 in c:\\users\\638545\\appdata\\local\\anaconda3\\envs\\techex_project3\\lib\\site-packages (from feature_engine) (1.4.2)\n",
      "Requirement already satisfied: scipy>=1.4.1 in c:\\users\\638545\\appdata\\local\\anaconda3\\envs\\techex_project3\\lib\\site-packages (from feature_engine) (1.13.0)\n",
      "Requirement already satisfied: statsmodels>=0.11.1 in c:\\users\\638545\\appdata\\local\\anaconda3\\envs\\techex_project3\\lib\\site-packages (from feature_engine) (0.14.2)\n",
      "Requirement already satisfied: python-dateutil>=2.8.2 in c:\\users\\638545\\appdata\\local\\anaconda3\\envs\\techex_project3\\lib\\site-packages (from pandas>=2.2.0->feature_engine) (2.9.0)\n",
      "Requirement already satisfied: pytz>=2020.1 in c:\\users\\638545\\appdata\\local\\anaconda3\\envs\\techex_project3\\lib\\site-packages (from pandas>=2.2.0->feature_engine) (2024.1)\n",
      "Requirement already satisfied: tzdata>=2022.7 in c:\\users\\638545\\appdata\\local\\anaconda3\\envs\\techex_project3\\lib\\site-packages (from pandas>=2.2.0->feature_engine) (2024.1)\n",
      "Requirement already satisfied: joblib>=1.2.0 in c:\\users\\638545\\appdata\\local\\anaconda3\\envs\\techex_project3\\lib\\site-packages (from scikit-learn>=1.4.0->feature_engine) (1.4.0)\n",
      "Requirement already satisfied: threadpoolctl>=2.0.0 in c:\\users\\638545\\appdata\\local\\anaconda3\\envs\\techex_project3\\lib\\site-packages (from scikit-learn>=1.4.0->feature_engine) (3.4.0)\n",
      "Requirement already satisfied: patsy>=0.5.6 in c:\\users\\638545\\appdata\\local\\anaconda3\\envs\\techex_project3\\lib\\site-packages (from statsmodels>=0.11.1->feature_engine) (0.5.6)\n",
      "Requirement already satisfied: packaging>=21.3 in c:\\users\\638545\\appdata\\local\\anaconda3\\envs\\techex_project3\\lib\\site-packages (from statsmodels>=0.11.1->feature_engine) (24.0)\n",
      "Requirement already satisfied: six in c:\\users\\638545\\appdata\\local\\anaconda3\\envs\\techex_project3\\lib\\site-packages (from patsy>=0.5.6->statsmodels>=0.11.1->feature_engine) (1.16.0)\n",
      "Note: you may need to restart the kernel to use updated packages.\n",
      "Requirement already satisfied: keras in c:\\users\\638545\\appdata\\local\\anaconda3\\envs\\techex_project3\\lib\\site-packages (3.3.2)\n",
      "Requirement already satisfied: absl-py in c:\\users\\638545\\appdata\\local\\anaconda3\\envs\\techex_project3\\lib\\site-packages (from keras) (2.1.0)\n",
      "Requirement already satisfied: numpy in c:\\users\\638545\\appdata\\local\\anaconda3\\envs\\techex_project3\\lib\\site-packages (from keras) (1.26.4)\n",
      "Requirement already satisfied: rich in c:\\users\\638545\\appdata\\local\\anaconda3\\envs\\techex_project3\\lib\\site-packages (from keras) (13.7.1)\n",
      "Requirement already satisfied: namex in c:\\users\\638545\\appdata\\local\\anaconda3\\envs\\techex_project3\\lib\\site-packages (from keras) (0.0.8)\n",
      "Requirement already satisfied: h5py in c:\\users\\638545\\appdata\\local\\anaconda3\\envs\\techex_project3\\lib\\site-packages (from keras) (3.11.0)\n",
      "Requirement already satisfied: optree in c:\\users\\638545\\appdata\\local\\anaconda3\\envs\\techex_project3\\lib\\site-packages (from keras) (0.11.0)\n",
      "Requirement already satisfied: ml-dtypes in c:\\users\\638545\\appdata\\local\\anaconda3\\envs\\techex_project3\\lib\\site-packages (from keras) (0.3.2)\n",
      "Requirement already satisfied: typing-extensions>=4.0.0 in c:\\users\\638545\\appdata\\local\\anaconda3\\envs\\techex_project3\\lib\\site-packages (from optree->keras) (4.11.0)\n",
      "Requirement already satisfied: markdown-it-py>=2.2.0 in c:\\users\\638545\\appdata\\local\\anaconda3\\envs\\techex_project3\\lib\\site-packages (from rich->keras) (3.0.0)\n",
      "Requirement already satisfied: pygments<3.0.0,>=2.13.0 in c:\\users\\638545\\appdata\\local\\anaconda3\\envs\\techex_project3\\lib\\site-packages (from rich->keras) (2.17.2)\n",
      "Requirement already satisfied: mdurl~=0.1 in c:\\users\\638545\\appdata\\local\\anaconda3\\envs\\techex_project3\\lib\\site-packages (from markdown-it-py>=2.2.0->rich->keras) (0.1.2)\n",
      "Note: you may need to restart the kernel to use updated packages.\n",
      "Requirement already satisfied: tensorflow in c:\\users\\638545\\appdata\\local\\anaconda3\\envs\\techex_project3\\lib\\site-packages (2.16.1)\n",
      "Requirement already satisfied: tensorflow-intel==2.16.1 in c:\\users\\638545\\appdata\\local\\anaconda3\\envs\\techex_project3\\lib\\site-packages (from tensorflow) (2.16.1)\n",
      "Requirement already satisfied: absl-py>=1.0.0 in c:\\users\\638545\\appdata\\local\\anaconda3\\envs\\techex_project3\\lib\\site-packages (from tensorflow-intel==2.16.1->tensorflow) (2.1.0)\n",
      "Requirement already satisfied: astunparse>=1.6.0 in c:\\users\\638545\\appdata\\local\\anaconda3\\envs\\techex_project3\\lib\\site-packages (from tensorflow-intel==2.16.1->tensorflow) (1.6.3)\n",
      "Requirement already satisfied: flatbuffers>=23.5.26 in c:\\users\\638545\\appdata\\local\\anaconda3\\envs\\techex_project3\\lib\\site-packages (from tensorflow-intel==2.16.1->tensorflow) (24.3.25)\n",
      "Requirement already satisfied: gast!=0.5.0,!=0.5.1,!=0.5.2,>=0.2.1 in c:\\users\\638545\\appdata\\local\\anaconda3\\envs\\techex_project3\\lib\\site-packages (from tensorflow-intel==2.16.1->tensorflow) (0.5.4)\n",
      "Requirement already satisfied: google-pasta>=0.1.1 in c:\\users\\638545\\appdata\\local\\anaconda3\\envs\\techex_project3\\lib\\site-packages (from tensorflow-intel==2.16.1->tensorflow) (0.2.0)\n",
      "Requirement already satisfied: h5py>=3.10.0 in c:\\users\\638545\\appdata\\local\\anaconda3\\envs\\techex_project3\\lib\\site-packages (from tensorflow-intel==2.16.1->tensorflow) (3.11.0)\n",
      "Requirement already satisfied: libclang>=13.0.0 in c:\\users\\638545\\appdata\\local\\anaconda3\\envs\\techex_project3\\lib\\site-packages (from tensorflow-intel==2.16.1->tensorflow) (18.1.1)\n",
      "Requirement already satisfied: ml-dtypes~=0.3.1 in c:\\users\\638545\\appdata\\local\\anaconda3\\envs\\techex_project3\\lib\\site-packages (from tensorflow-intel==2.16.1->tensorflow) (0.3.2)\n",
      "Requirement already satisfied: opt-einsum>=2.3.2 in c:\\users\\638545\\appdata\\local\\anaconda3\\envs\\techex_project3\\lib\\site-packages (from tensorflow-intel==2.16.1->tensorflow) (3.3.0)\n",
      "Requirement already satisfied: packaging in c:\\users\\638545\\appdata\\local\\anaconda3\\envs\\techex_project3\\lib\\site-packages (from tensorflow-intel==2.16.1->tensorflow) (24.0)\n",
      "Requirement already satisfied: protobuf!=4.21.0,!=4.21.1,!=4.21.2,!=4.21.3,!=4.21.4,!=4.21.5,<5.0.0dev,>=3.20.3 in c:\\users\\638545\\appdata\\local\\anaconda3\\envs\\techex_project3\\lib\\site-packages (from tensorflow-intel==2.16.1->tensorflow) (4.25.3)\n",
      "Requirement already satisfied: requests<3,>=2.21.0 in c:\\users\\638545\\appdata\\local\\anaconda3\\envs\\techex_project3\\lib\\site-packages (from tensorflow-intel==2.16.1->tensorflow) (2.31.0)\n",
      "Requirement already satisfied: setuptools in c:\\users\\638545\\appdata\\local\\anaconda3\\envs\\techex_project3\\lib\\site-packages (from tensorflow-intel==2.16.1->tensorflow) (68.2.2)\n",
      "Requirement already satisfied: six>=1.12.0 in c:\\users\\638545\\appdata\\local\\anaconda3\\envs\\techex_project3\\lib\\site-packages (from tensorflow-intel==2.16.1->tensorflow) (1.16.0)\n",
      "Requirement already satisfied: termcolor>=1.1.0 in c:\\users\\638545\\appdata\\local\\anaconda3\\envs\\techex_project3\\lib\\site-packages (from tensorflow-intel==2.16.1->tensorflow) (2.4.0)\n",
      "Requirement already satisfied: typing-extensions>=3.6.6 in c:\\users\\638545\\appdata\\local\\anaconda3\\envs\\techex_project3\\lib\\site-packages (from tensorflow-intel==2.16.1->tensorflow) (4.11.0)\n",
      "Requirement already satisfied: wrapt>=1.11.0 in c:\\users\\638545\\appdata\\local\\anaconda3\\envs\\techex_project3\\lib\\site-packages (from tensorflow-intel==2.16.1->tensorflow) (1.16.0)\n",
      "Requirement already satisfied: grpcio<2.0,>=1.24.3 in c:\\users\\638545\\appdata\\local\\anaconda3\\envs\\techex_project3\\lib\\site-packages (from tensorflow-intel==2.16.1->tensorflow) (1.62.2)\n",
      "Requirement already satisfied: tensorboard<2.17,>=2.16 in c:\\users\\638545\\appdata\\local\\anaconda3\\envs\\techex_project3\\lib\\site-packages (from tensorflow-intel==2.16.1->tensorflow) (2.16.2)\n",
      "Requirement already satisfied: keras>=3.0.0 in c:\\users\\638545\\appdata\\local\\anaconda3\\envs\\techex_project3\\lib\\site-packages (from tensorflow-intel==2.16.1->tensorflow) (3.3.2)\n",
      "Requirement already satisfied: tensorflow-io-gcs-filesystem>=0.23.1 in c:\\users\\638545\\appdata\\local\\anaconda3\\envs\\techex_project3\\lib\\site-packages (from tensorflow-intel==2.16.1->tensorflow) (0.31.0)\n",
      "Requirement already satisfied: numpy<2.0.0,>=1.23.5 in c:\\users\\638545\\appdata\\local\\anaconda3\\envs\\techex_project3\\lib\\site-packages (from tensorflow-intel==2.16.1->tensorflow) (1.26.4)\n",
      "Requirement already satisfied: wheel<1.0,>=0.23.0 in c:\\users\\638545\\appdata\\local\\anaconda3\\envs\\techex_project3\\lib\\site-packages (from astunparse>=1.6.0->tensorflow-intel==2.16.1->tensorflow) (0.41.2)\n",
      "Requirement already satisfied: rich in c:\\users\\638545\\appdata\\local\\anaconda3\\envs\\techex_project3\\lib\\site-packages (from keras>=3.0.0->tensorflow-intel==2.16.1->tensorflow) (13.7.1)\n",
      "Requirement already satisfied: namex in c:\\users\\638545\\appdata\\local\\anaconda3\\envs\\techex_project3\\lib\\site-packages (from keras>=3.0.0->tensorflow-intel==2.16.1->tensorflow) (0.0.8)\n",
      "Requirement already satisfied: optree in c:\\users\\638545\\appdata\\local\\anaconda3\\envs\\techex_project3\\lib\\site-packages (from keras>=3.0.0->tensorflow-intel==2.16.1->tensorflow) (0.11.0)\n",
      "Requirement already satisfied: charset-normalizer<4,>=2 in c:\\users\\638545\\appdata\\local\\anaconda3\\envs\\techex_project3\\lib\\site-packages (from requests<3,>=2.21.0->tensorflow-intel==2.16.1->tensorflow) (3.3.2)\n",
      "Requirement already satisfied: idna<4,>=2.5 in c:\\users\\638545\\appdata\\local\\anaconda3\\envs\\techex_project3\\lib\\site-packages (from requests<3,>=2.21.0->tensorflow-intel==2.16.1->tensorflow) (3.7)\n",
      "Requirement already satisfied: urllib3<3,>=1.21.1 in c:\\users\\638545\\appdata\\local\\anaconda3\\envs\\techex_project3\\lib\\site-packages (from requests<3,>=2.21.0->tensorflow-intel==2.16.1->tensorflow) (2.2.1)\n",
      "Requirement already satisfied: certifi>=2017.4.17 in c:\\users\\638545\\appdata\\local\\anaconda3\\envs\\techex_project3\\lib\\site-packages (from requests<3,>=2.21.0->tensorflow-intel==2.16.1->tensorflow) (2024.2.2)\n",
      "Requirement already satisfied: markdown>=2.6.8 in c:\\users\\638545\\appdata\\local\\anaconda3\\envs\\techex_project3\\lib\\site-packages (from tensorboard<2.17,>=2.16->tensorflow-intel==2.16.1->tensorflow) (3.6)\n",
      "Requirement already satisfied: tensorboard-data-server<0.8.0,>=0.7.0 in c:\\users\\638545\\appdata\\local\\anaconda3\\envs\\techex_project3\\lib\\site-packages (from tensorboard<2.17,>=2.16->tensorflow-intel==2.16.1->tensorflow) (0.7.2)\n",
      "Requirement already satisfied: werkzeug>=1.0.1 in c:\\users\\638545\\appdata\\local\\anaconda3\\envs\\techex_project3\\lib\\site-packages (from tensorboard<2.17,>=2.16->tensorflow-intel==2.16.1->tensorflow) (3.0.2)\n",
      "Requirement already satisfied: MarkupSafe>=2.1.1 in c:\\users\\638545\\appdata\\local\\anaconda3\\envs\\techex_project3\\lib\\site-packages (from werkzeug>=1.0.1->tensorboard<2.17,>=2.16->tensorflow-intel==2.16.1->tensorflow) (2.1.5)\n",
      "Requirement already satisfied: markdown-it-py>=2.2.0 in c:\\users\\638545\\appdata\\local\\anaconda3\\envs\\techex_project3\\lib\\site-packages (from rich->keras>=3.0.0->tensorflow-intel==2.16.1->tensorflow) (3.0.0)\n",
      "Requirement already satisfied: pygments<3.0.0,>=2.13.0 in c:\\users\\638545\\appdata\\local\\anaconda3\\envs\\techex_project3\\lib\\site-packages (from rich->keras>=3.0.0->tensorflow-intel==2.16.1->tensorflow) (2.17.2)\n",
      "Requirement already satisfied: mdurl~=0.1 in c:\\users\\638545\\appdata\\local\\anaconda3\\envs\\techex_project3\\lib\\site-packages (from markdown-it-py>=2.2.0->rich->keras>=3.0.0->tensorflow-intel==2.16.1->tensorflow) (0.1.2)\n",
      "Note: you may need to restart the kernel to use updated packages.\n",
      "Requirement already satisfied: hyperopt in c:\\users\\638545\\appdata\\local\\anaconda3\\envs\\techex_project3\\lib\\site-packages (0.2.7)\n",
      "Requirement already satisfied: numpy in c:\\users\\638545\\appdata\\local\\anaconda3\\envs\\techex_project3\\lib\\site-packages (from hyperopt) (1.26.4)\n",
      "Requirement already satisfied: scipy in c:\\users\\638545\\appdata\\local\\anaconda3\\envs\\techex_project3\\lib\\site-packages (from hyperopt) (1.13.0)\n",
      "Requirement already satisfied: six in c:\\users\\638545\\appdata\\local\\anaconda3\\envs\\techex_project3\\lib\\site-packages (from hyperopt) (1.16.0)\n",
      "Requirement already satisfied: networkx>=2.2 in c:\\users\\638545\\appdata\\local\\anaconda3\\envs\\techex_project3\\lib\\site-packages (from hyperopt) (3.3)\n",
      "Requirement already satisfied: future in c:\\users\\638545\\appdata\\local\\anaconda3\\envs\\techex_project3\\lib\\site-packages (from hyperopt) (1.0.0)\n",
      "Requirement already satisfied: tqdm in c:\\users\\638545\\appdata\\local\\anaconda3\\envs\\techex_project3\\lib\\site-packages (from hyperopt) (4.66.2)\n",
      "Requirement already satisfied: cloudpickle in c:\\users\\638545\\appdata\\local\\anaconda3\\envs\\techex_project3\\lib\\site-packages (from hyperopt) (3.0.0)\n",
      "Requirement already satisfied: py4j in c:\\users\\638545\\appdata\\local\\anaconda3\\envs\\techex_project3\\lib\\site-packages (from hyperopt) (0.10.9.7)\n",
      "Requirement already satisfied: colorama in c:\\users\\638545\\appdata\\local\\anaconda3\\envs\\techex_project3\\lib\\site-packages (from tqdm->hyperopt) (0.4.6)\n",
      "Note: you may need to restart the kernel to use updated packages.\n",
      "Collecting mlflow\n",
      "  Using cached mlflow-2.12.1-py3-none-any.whl.metadata (29 kB)\n",
      "Collecting Flask<4 (from mlflow)\n",
      "  Downloading flask-3.0.3-py3-none-any.whl.metadata (3.2 kB)\n",
      "Collecting alembic!=1.10.0,<2 (from mlflow)\n",
      "  Using cached alembic-1.13.1-py3-none-any.whl.metadata (7.4 kB)\n",
      "Collecting click<9,>=7.0 (from mlflow)\n",
      "  Downloading click-8.1.7-py3-none-any.whl.metadata (3.0 kB)\n",
      "Requirement already satisfied: cloudpickle<4 in c:\\users\\638545\\appdata\\local\\anaconda3\\envs\\techex_project3\\lib\\site-packages (from mlflow) (3.0.0)\n",
      "Collecting docker<8,>=4.0.0 (from mlflow)\n",
      "  Using cached docker-7.0.0-py3-none-any.whl.metadata (3.5 kB)\n",
      "Collecting entrypoints<1 (from mlflow)\n",
      "  Downloading entrypoints-0.4-py3-none-any.whl.metadata (2.6 kB)\n",
      "Collecting gitpython<4,>=3.1.9 (from mlflow)\n",
      "  Downloading GitPython-3.1.43-py3-none-any.whl.metadata (13 kB)\n",
      "Collecting graphene<4 (from mlflow)\n",
      "  Using cached graphene-3.3-py2.py3-none-any.whl.metadata (7.7 kB)\n",
      "Requirement already satisfied: importlib-metadata!=4.7.0,<8,>=3.7.0 in c:\\users\\638545\\appdata\\local\\anaconda3\\envs\\techex_project3\\lib\\site-packages (from mlflow) (7.1.0)\n",
      "Requirement already satisfied: markdown<4,>=3.3 in c:\\users\\638545\\appdata\\local\\anaconda3\\envs\\techex_project3\\lib\\site-packages (from mlflow) (3.6)\n",
      "Requirement already satisfied: matplotlib<4 in c:\\users\\638545\\appdata\\local\\anaconda3\\envs\\techex_project3\\lib\\site-packages (from mlflow) (3.8.4)\n",
      "Requirement already satisfied: numpy<2 in c:\\users\\638545\\appdata\\local\\anaconda3\\envs\\techex_project3\\lib\\site-packages (from mlflow) (1.26.4)\n",
      "Requirement already satisfied: packaging<25 in c:\\users\\638545\\appdata\\local\\anaconda3\\envs\\techex_project3\\lib\\site-packages (from mlflow) (24.0)\n",
      "Requirement already satisfied: pandas<3 in c:\\users\\638545\\appdata\\local\\anaconda3\\envs\\techex_project3\\lib\\site-packages (from mlflow) (2.2.2)\n",
      "Requirement already satisfied: protobuf<6,>=3.12.0 in c:\\users\\638545\\appdata\\local\\anaconda3\\envs\\techex_project3\\lib\\site-packages (from mlflow) (4.25.3)\n",
      "Collecting pyarrow<16,>=4.0.0 (from mlflow)\n",
      "  Downloading pyarrow-15.0.2-cp310-cp310-win_amd64.whl.metadata (3.1 kB)\n",
      "Requirement already satisfied: pytz<2025 in c:\\users\\638545\\appdata\\local\\anaconda3\\envs\\techex_project3\\lib\\site-packages (from mlflow) (2024.1)\n",
      "Collecting pyyaml<7,>=5.1 (from mlflow)\n",
      "  Downloading PyYAML-6.0.1-cp310-cp310-win_amd64.whl.metadata (2.1 kB)\n",
      "Collecting querystring-parser<2 (from mlflow)\n",
      "  Using cached querystring_parser-1.2.4-py2.py3-none-any.whl.metadata (559 bytes)\n",
      "Requirement already satisfied: requests<3,>=2.17.3 in c:\\users\\638545\\appdata\\local\\anaconda3\\envs\\techex_project3\\lib\\site-packages (from mlflow) (2.31.0)\n",
      "Requirement already satisfied: scikit-learn<2 in c:\\users\\638545\\appdata\\local\\anaconda3\\envs\\techex_project3\\lib\\site-packages (from mlflow) (1.4.2)\n",
      "Requirement already satisfied: scipy<2 in c:\\users\\638545\\appdata\\local\\anaconda3\\envs\\techex_project3\\lib\\site-packages (from mlflow) (1.13.0)\n",
      "Collecting sqlalchemy<3,>=1.4.0 (from mlflow)\n",
      "  Downloading SQLAlchemy-2.0.29-cp310-cp310-win_amd64.whl.metadata (9.8 kB)\n",
      "Collecting sqlparse<1,>=0.4.0 (from mlflow)\n",
      "  Using cached sqlparse-0.5.0-py3-none-any.whl.metadata (3.9 kB)\n",
      "Collecting Jinja2<4,>=3.0 (from mlflow)\n",
      "  Downloading Jinja2-3.1.3-py3-none-any.whl.metadata (3.3 kB)\n",
      "Collecting waitress<4 (from mlflow)\n",
      "  Using cached waitress-3.0.0-py3-none-any.whl.metadata (4.2 kB)\n",
      "Collecting Mako (from alembic!=1.10.0,<2->mlflow)\n",
      "  Using cached Mako-1.3.3-py3-none-any.whl.metadata (2.9 kB)\n",
      "Requirement already satisfied: typing-extensions>=4 in c:\\users\\638545\\appdata\\local\\anaconda3\\envs\\techex_project3\\lib\\site-packages (from alembic!=1.10.0,<2->mlflow) (4.11.0)\n",
      "Requirement already satisfied: colorama in c:\\users\\638545\\appdata\\local\\anaconda3\\envs\\techex_project3\\lib\\site-packages (from click<9,>=7.0->mlflow) (0.4.6)\n",
      "Requirement already satisfied: urllib3>=1.26.0 in c:\\users\\638545\\appdata\\local\\anaconda3\\envs\\techex_project3\\lib\\site-packages (from docker<8,>=4.0.0->mlflow) (2.2.1)\n",
      "Requirement already satisfied: pywin32>=304 in c:\\users\\638545\\appdata\\local\\anaconda3\\envs\\techex_project3\\lib\\site-packages (from docker<8,>=4.0.0->mlflow) (306)\n",
      "Requirement already satisfied: Werkzeug>=3.0.0 in c:\\users\\638545\\appdata\\local\\anaconda3\\envs\\techex_project3\\lib\\site-packages (from Flask<4->mlflow) (3.0.2)\n",
      "Collecting itsdangerous>=2.1.2 (from Flask<4->mlflow)\n",
      "  Downloading itsdangerous-2.2.0-py3-none-any.whl.metadata (1.9 kB)\n",
      "Collecting blinker>=1.6.2 (from Flask<4->mlflow)\n",
      "  Downloading blinker-1.7.0-py3-none-any.whl.metadata (1.9 kB)\n",
      "Collecting gitdb<5,>=4.0.1 (from gitpython<4,>=3.1.9->mlflow)\n",
      "  Downloading gitdb-4.0.11-py3-none-any.whl.metadata (1.2 kB)\n",
      "Collecting graphql-core<3.3,>=3.1 (from graphene<4->mlflow)\n",
      "  Using cached graphql_core-3.2.3-py3-none-any.whl.metadata (10 kB)\n",
      "Collecting graphql-relay<3.3,>=3.1 (from graphene<4->mlflow)\n",
      "  Using cached graphql_relay-3.2.0-py3-none-any.whl.metadata (12 kB)\n",
      "Collecting aniso8601<10,>=8 (from graphene<4->mlflow)\n",
      "  Using cached aniso8601-9.0.1-py2.py3-none-any.whl.metadata (23 kB)\n",
      "Requirement already satisfied: zipp>=0.5 in c:\\users\\638545\\appdata\\local\\anaconda3\\envs\\techex_project3\\lib\\site-packages (from importlib-metadata!=4.7.0,<8,>=3.7.0->mlflow) (3.17.0)\n",
      "Requirement already satisfied: MarkupSafe>=2.0 in c:\\users\\638545\\appdata\\local\\anaconda3\\envs\\techex_project3\\lib\\site-packages (from Jinja2<4,>=3.0->mlflow) (2.1.5)\n",
      "Requirement already satisfied: contourpy>=1.0.1 in c:\\users\\638545\\appdata\\local\\anaconda3\\envs\\techex_project3\\lib\\site-packages (from matplotlib<4->mlflow) (1.2.1)\n",
      "Requirement already satisfied: cycler>=0.10 in c:\\users\\638545\\appdata\\local\\anaconda3\\envs\\techex_project3\\lib\\site-packages (from matplotlib<4->mlflow) (0.12.1)\n",
      "Requirement already satisfied: fonttools>=4.22.0 in c:\\users\\638545\\appdata\\local\\anaconda3\\envs\\techex_project3\\lib\\site-packages (from matplotlib<4->mlflow) (4.51.0)\n",
      "Requirement already satisfied: kiwisolver>=1.3.1 in c:\\users\\638545\\appdata\\local\\anaconda3\\envs\\techex_project3\\lib\\site-packages (from matplotlib<4->mlflow) (1.4.5)\n",
      "Requirement already satisfied: pillow>=8 in c:\\users\\638545\\appdata\\local\\anaconda3\\envs\\techex_project3\\lib\\site-packages (from matplotlib<4->mlflow) (10.3.0)\n",
      "Requirement already satisfied: pyparsing>=2.3.1 in c:\\users\\638545\\appdata\\local\\anaconda3\\envs\\techex_project3\\lib\\site-packages (from matplotlib<4->mlflow) (3.1.2)\n",
      "Requirement already satisfied: python-dateutil>=2.7 in c:\\users\\638545\\appdata\\local\\anaconda3\\envs\\techex_project3\\lib\\site-packages (from matplotlib<4->mlflow) (2.9.0)\n",
      "Requirement already satisfied: tzdata>=2022.7 in c:\\users\\638545\\appdata\\local\\anaconda3\\envs\\techex_project3\\lib\\site-packages (from pandas<3->mlflow) (2024.1)\n",
      "Requirement already satisfied: six in c:\\users\\638545\\appdata\\local\\anaconda3\\envs\\techex_project3\\lib\\site-packages (from querystring-parser<2->mlflow) (1.16.0)\n",
      "Requirement already satisfied: charset-normalizer<4,>=2 in c:\\users\\638545\\appdata\\local\\anaconda3\\envs\\techex_project3\\lib\\site-packages (from requests<3,>=2.17.3->mlflow) (3.3.2)\n",
      "Requirement already satisfied: idna<4,>=2.5 in c:\\users\\638545\\appdata\\local\\anaconda3\\envs\\techex_project3\\lib\\site-packages (from requests<3,>=2.17.3->mlflow) (3.7)\n",
      "Requirement already satisfied: certifi>=2017.4.17 in c:\\users\\638545\\appdata\\local\\anaconda3\\envs\\techex_project3\\lib\\site-packages (from requests<3,>=2.17.3->mlflow) (2024.2.2)\n",
      "Requirement already satisfied: joblib>=1.2.0 in c:\\users\\638545\\appdata\\local\\anaconda3\\envs\\techex_project3\\lib\\site-packages (from scikit-learn<2->mlflow) (1.4.0)\n",
      "Requirement already satisfied: threadpoolctl>=2.0.0 in c:\\users\\638545\\appdata\\local\\anaconda3\\envs\\techex_project3\\lib\\site-packages (from scikit-learn<2->mlflow) (3.4.0)\n",
      "Collecting greenlet!=0.4.17 (from sqlalchemy<3,>=1.4.0->mlflow)\n",
      "  Downloading greenlet-3.0.3-cp310-cp310-win_amd64.whl.metadata (3.9 kB)\n",
      "Collecting smmap<6,>=3.0.1 (from gitdb<5,>=4.0.1->gitpython<4,>=3.1.9->mlflow)\n",
      "  Downloading smmap-5.0.1-py3-none-any.whl.metadata (4.3 kB)\n",
      "Using cached mlflow-2.12.1-py3-none-any.whl (20.2 MB)\n",
      "Using cached alembic-1.13.1-py3-none-any.whl (233 kB)\n",
      "Downloading click-8.1.7-py3-none-any.whl (97 kB)\n",
      "   ---------------------------------------- 0.0/97.9 kB ? eta -:--:--\n",
      "   ------------------------------------- -- 92.2/97.9 kB 2.6 MB/s eta 0:00:01\n",
      "   ---------------------------------------- 97.9/97.9 kB 1.9 MB/s eta 0:00:00\n",
      "Using cached docker-7.0.0-py3-none-any.whl (147 kB)\n",
      "Downloading entrypoints-0.4-py3-none-any.whl (5.3 kB)\n",
      "Downloading flask-3.0.3-py3-none-any.whl (101 kB)\n",
      "   ---------------------------------------- 0.0/101.7 kB ? eta -:--:--\n",
      "   ---------------------------------------- 101.7/101.7 kB 6.1 MB/s eta 0:00:00\n",
      "Downloading GitPython-3.1.43-py3-none-any.whl (207 kB)\n",
      "   ---------------------------------------- 0.0/207.3 kB ? eta -:--:--\n",
      "   --------------------------------------- 207.3/207.3 kB 12.3 MB/s eta 0:00:00\n",
      "Using cached graphene-3.3-py2.py3-none-any.whl (128 kB)\n",
      "Downloading Jinja2-3.1.3-py3-none-any.whl (133 kB)\n",
      "   ---------------------------------------- 0.0/133.2 kB ? eta -:--:--\n",
      "   ---------------------------------------- 133.2/133.2 kB 8.2 MB/s eta 0:00:00\n",
      "Downloading pyarrow-15.0.2-cp310-cp310-win_amd64.whl (24.8 MB)\n",
      "   ---------------------------------------- 0.0/24.8 MB ? eta -:--:--\n",
      "   - -------------------------------------- 0.8/24.8 MB 17.9 MB/s eta 0:00:02\n",
      "   -- ------------------------------------- 1.6/24.8 MB 20.1 MB/s eta 0:00:02\n",
      "   --- ------------------------------------ 2.4/24.8 MB 16.8 MB/s eta 0:00:02\n",
      "   ----- ---------------------------------- 3.5/24.8 MB 18.8 MB/s eta 0:00:02\n",
      "   ------- -------------------------------- 4.5/24.8 MB 19.4 MB/s eta 0:00:02\n",
      "   -------- ------------------------------- 5.3/24.8 MB 19.9 MB/s eta 0:00:01\n",
      "   --------- ------------------------------ 6.0/24.8 MB 19.3 MB/s eta 0:00:01\n",
      "   ------------ --------------------------- 7.5/24.8 MB 20.0 MB/s eta 0:00:01\n",
      "   ------------- -------------------------- 8.3/24.8 MB 19.5 MB/s eta 0:00:01\n",
      "   -------------- ------------------------- 9.0/24.8 MB 19.8 MB/s eta 0:00:01\n",
      "   --------------- ------------------------ 9.8/24.8 MB 19.6 MB/s eta 0:00:01\n",
      "   ----------------- ---------------------- 11.1/24.8 MB 21.1 MB/s eta 0:00:01\n",
      "   ------------------- -------------------- 12.0/24.8 MB 20.5 MB/s eta 0:00:01\n",
      "   -------------------- ------------------- 12.8/24.8 MB 21.1 MB/s eta 0:00:01\n",
      "   ---------------------- ----------------- 13.9/24.8 MB 20.5 MB/s eta 0:00:01\n",
      "   ------------------------ --------------- 15.1/24.8 MB 21.1 MB/s eta 0:00:01\n",
      "   -------------------------- ------------- 16.2/24.8 MB 21.1 MB/s eta 0:00:01\n",
      "   ---------------------------- ----------- 17.5/24.8 MB 21.9 MB/s eta 0:00:01\n",
      "   ----------------------------- ---------- 18.2/24.8 MB 22.6 MB/s eta 0:00:01\n",
      "   ------------------------------- -------- 19.4/24.8 MB 22.6 MB/s eta 0:00:01\n",
      "   --------------------------------- ------ 20.6/24.8 MB 22.6 MB/s eta 0:00:01\n",
      "   ---------------------------------- ----- 21.5/24.8 MB 23.4 MB/s eta 0:00:01\n",
      "   ------------------------------------ --- 22.6/24.8 MB 23.4 MB/s eta 0:00:01\n",
      "   -------------------------------------- - 23.7/24.8 MB 23.4 MB/s eta 0:00:01\n",
      "   ---------------------------------------  24.5/24.8 MB 23.4 MB/s eta 0:00:01\n",
      "   ---------------------------------------  24.8/24.8 MB 22.6 MB/s eta 0:00:01\n",
      "   ---------------------------------------  24.8/24.8 MB 22.6 MB/s eta 0:00:01\n",
      "   ---------------------------------------- 24.8/24.8 MB 17.7 MB/s eta 0:00:00\n",
      "Downloading PyYAML-6.0.1-cp310-cp310-win_amd64.whl (145 kB)\n",
      "   ---------------------------------------- 0.0/145.3 kB ? eta -:--:--\n",
      "   ---------------------------------------- 145.3/145.3 kB 8.4 MB/s eta 0:00:00\n",
      "Using cached querystring_parser-1.2.4-py2.py3-none-any.whl (7.9 kB)\n",
      "Downloading SQLAlchemy-2.0.29-cp310-cp310-win_amd64.whl (2.1 MB)\n",
      "   ---------------------------------------- 0.0/2.1 MB ? eta -:--:--\n",
      "   ----------------------- ---------------- 1.2/2.1 MB 39.6 MB/s eta 0:00:01\n",
      "   ---------------------------------------  2.1/2.1 MB 33.2 MB/s eta 0:00:01\n",
      "   ---------------------------------------- 2.1/2.1 MB 22.2 MB/s eta 0:00:00\n",
      "Using cached sqlparse-0.5.0-py3-none-any.whl (43 kB)\n",
      "Using cached waitress-3.0.0-py3-none-any.whl (56 kB)\n",
      "Using cached aniso8601-9.0.1-py2.py3-none-any.whl (52 kB)\n",
      "Downloading blinker-1.7.0-py3-none-any.whl (13 kB)\n",
      "Downloading gitdb-4.0.11-py3-none-any.whl (62 kB)\n",
      "   ---------------------------------------- 0.0/62.7 kB ? eta -:--:--\n",
      "   ---------------------------------------- 62.7/62.7 kB 3.5 MB/s eta 0:00:00\n",
      "Using cached graphql_core-3.2.3-py3-none-any.whl (202 kB)\n",
      "Using cached graphql_relay-3.2.0-py3-none-any.whl (16 kB)\n",
      "Downloading greenlet-3.0.3-cp310-cp310-win_amd64.whl (292 kB)\n",
      "   ---------------------------------------- 0.0/292.3 kB ? eta -:--:--\n",
      "   --------------------------------------- 292.3/292.3 kB 18.8 MB/s eta 0:00:00\n",
      "Downloading itsdangerous-2.2.0-py3-none-any.whl (16 kB)\n",
      "Using cached Mako-1.3.3-py3-none-any.whl (78 kB)\n",
      "Downloading smmap-5.0.1-py3-none-any.whl (24 kB)\n",
      "Installing collected packages: aniso8601, waitress, sqlparse, smmap, querystring-parser, pyyaml, pyarrow, Mako, Jinja2, itsdangerous, greenlet, graphql-core, entrypoints, click, blinker, sqlalchemy, graphql-relay, gitdb, Flask, docker, graphene, gitpython, alembic, mlflow\n",
      "Successfully installed Flask-3.0.3 Jinja2-3.1.3 Mako-1.3.3 alembic-1.13.1 aniso8601-9.0.1 blinker-1.7.0 click-8.1.7 docker-7.0.0 entrypoints-0.4 gitdb-4.0.11 gitpython-3.1.43 graphene-3.3 graphql-core-3.2.3 graphql-relay-3.2.0 greenlet-3.0.3 itsdangerous-2.2.0 mlflow-2.12.1 pyarrow-15.0.2 pyyaml-6.0.1 querystring-parser-1.2.4 smmap-5.0.1 sqlalchemy-2.0.29 sqlparse-0.5.0 waitress-3.0.0\n",
      "Note: you may need to restart the kernel to use updated packages.\n"
     ]
    }
   ],
   "source": [
    "%pip install pandas \n",
    "%pip install utils \n",
    "%pip install matplotlib\n",
    "%pip install seaborn\n",
    "%pip install feature_engine\n",
    "%pip install keras\n",
    "%pip install tensorflow\n",
    "%pip install hyperopt\n",
    "%pip install mlflow"
   ]
  },
  {
   "cell_type": "code",
   "execution_count": 31,
   "metadata": {},
   "outputs": [],
   "source": [
    "# Import Packages for project\n",
    "\n",
    "# Standard Libraries\n",
    "import csv\n",
    "import cv2\n",
    "import imageio\n",
    "from IPython.display import YouTubeVideo\n",
    "import glob\n",
    "import numpy as np\n",
    "import os\n",
    "import pandas as pd\n",
    "import re\n",
    "import utils\n",
    "\n",
    "# Data Visualization\n",
    "import matplotlib.pyplot as plt\n",
    "import seaborn as sns\n",
    "\n",
    "# Algorithms, Modeling and Data Pre-processing\n",
    "import feature_engine\n",
    "from feature_engine.encoding import OrdinalEncoder\n",
    "from feature_engine.transformation import YeoJohnsonTransformer\n",
    "from scipy.stats import anderson, chi2_contingency\n",
    "from sklearn.impute import SimpleImputer\n",
    "from sklearn.model_selection import train_test_split, GridSearchCV, RandomizedSearchCV\n",
    "from sklearn.metrics import classification_report,confusion_matrix,accuracy_score,f1_score,precision_score, roc_auc_score,recall_score\n",
    "from sklearn.preprocessing import MinMaxScaler, StandardScaler\n",
    "import statsmodels.api as sm\n",
    "from statsmodels.stats.outliers_influence import variance_inflation_factor\n",
    "\n",
    "# Deep Learning\n",
    "import keras\n",
    "from keras import layers\n",
    "from keras.layers import RandomFlip, RandomRotation, Rescaling, BatchNormalization, Conv2D, MaxPooling2D, Dense, Input\n",
    "from keras.models import Model, Sequential\n",
    "from keras.optimizers import Adam, SGD\n",
    "import tensorflow as tf\n",
    "from tensorflow import keras\n",
    "from tensorflow.keras import callbacks\n",
    "from tensorflow.keras.preprocessing.image import ImageDataGenerator\n",
    "\n",
    "# Model Optimization and Hyperparameter Tuning\n",
    "import hyperopt\n",
    "from hyperopt import STATUS_OK, Trials, fmin, tpe, hp\n",
    "import mlflow\n",
    "\n",
    "import tensorboard"
   ]
  },
  {
   "cell_type": "code",
   "execution_count": 32,
   "metadata": {},
   "outputs": [
    {
     "name": "stdout",
     "output_type": "stream",
     "text": [
      "<class 'pandas.core.frame.DataFrame'>\n",
      "RangeIndex: 19906 entries, 0 to 19905\n",
      "Data columns (total 6 columns):\n",
      " #   Column      Non-Null Count  Dtype \n",
      "---  ------      --------------  ----- \n",
      " 0   label       19906 non-null  object\n",
      " 1   youtube_id  19906 non-null  object\n",
      " 2   time_start  19906 non-null  int64 \n",
      " 3   time_end    19906 non-null  int64 \n",
      " 4   split       19906 non-null  object\n",
      " 5   is_cc       19906 non-null  int64 \n",
      "dtypes: int64(3), object(3)\n",
      "memory usage: 4.2 MB\n"
     ]
    }
   ],
   "source": [
    "# Obtain the Data\n",
    "filepath = '../data/K400/video_annotations.csv'\n",
    "raw_csv = pd.read_csv(filepath)\n",
    "k400_df = pd.DataFrame(raw_csv)\n",
    "\n",
    "k400_df.info(memory_usage='deep')"
   ]
  },
  {
   "cell_type": "code",
   "execution_count": 33,
   "metadata": {},
   "outputs": [
    {
     "data": {
      "text/plain": [
       "<bound method NDFrame.head of            label   youtube_id  time_start  time_end split  is_cc\n",
       "0      abseiling  0wR5jVB-WPk         417       427   val      0\n",
       "1      abseiling  3caPS4FHFF8          36        46   val      0\n",
       "2      abseiling  3yaoNwz99xM          62        72   val      1\n",
       "3      abseiling  6IbvOJxXnOo          47        57   val      0\n",
       "4      abseiling  6_4kjPiQr7w         191       201   val      0\n",
       "...          ...          ...         ...       ...   ...    ...\n",
       "19901      zumba  w5hbJLVhZDI          93       103   val      0\n",
       "19902      zumba  xDd6uIBeMEA           1        11   val      0\n",
       "19903      zumba  XWvGn7eI04A          12        22   val      0\n",
       "19904      zumba  yGdQwxP5koA          83        93   val      0\n",
       "19905      zumba  ZVDR2od1gn8          37        47   val      0\n",
       "\n",
       "[19906 rows x 6 columns]>"
      ]
     },
     "execution_count": 33,
     "metadata": {},
     "output_type": "execute_result"
    }
   ],
   "source": [
    "# initial inspection of complete dataframe\n",
    "k400_df.head"
   ]
  },
  {
   "cell_type": "code",
   "execution_count": 34,
   "metadata": {},
   "outputs": [
    {
     "data": {
      "text/plain": [
       "label         0.0\n",
       "youtube_id    0.0\n",
       "time_start    0.0\n",
       "time_end      0.0\n",
       "split         0.0\n",
       "is_cc         0.0\n",
       "dtype: float64"
      ]
     },
     "execution_count": 34,
     "metadata": {},
     "output_type": "execute_result"
    }
   ],
   "source": [
    "# Check for null values/percentage of null values:\n",
    "\n",
    "k400_df.isna().mean()"
   ]
  },
  {
   "cell_type": "code",
   "execution_count": 35,
   "metadata": {},
   "outputs": [
    {
     "data": {
      "text/plain": [
       "label         0\n",
       "youtube_id    0\n",
       "time_start    0\n",
       "time_end      0\n",
       "split         0\n",
       "is_cc         0\n",
       "dtype: int64"
      ]
     },
     "execution_count": 35,
     "metadata": {},
     "output_type": "execute_result"
    }
   ],
   "source": [
    "k400_df.isna().sum()"
   ]
  },
  {
   "cell_type": "markdown",
   "metadata": {},
   "source": [
    "### Observations \n",
    "\n",
    "1. No null values\n",
    "2. Over 240k Observations\n",
    "3. 6 Attributes of string/int datatypes"
   ]
  },
  {
   "cell_type": "markdown",
   "metadata": {},
   "source": [
    "Afia's notes from earlier discussion with Armando on Tuesday (April 23) is that we should ignore split and is_cc attributes/columns"
   ]
  },
  {
   "cell_type": "code",
   "execution_count": 36,
   "metadata": {},
   "outputs": [
    {
     "data": {
      "text/plain": [
       "label           400\n",
       "youtube_id    19906\n",
       "time_start      842\n",
       "time_end        842\n",
       "split             1\n",
       "is_cc             2\n",
       "dtype: int64"
      ]
     },
     "execution_count": 36,
     "metadata": {},
     "output_type": "execute_result"
    }
   ],
   "source": [
    "# check for dup\n",
    "num_unique = k400_df.nunique()\n",
    "num_unique"
   ]
  },
  {
   "cell_type": "markdown",
   "metadata": {},
   "source": [
    "### Observations\n",
    "\n",
    "1. THere are 400 unique labels\n",
    "2. There are about 20K youtube_id with only about 850 videos\n",
    "3. Videos duration is only 10 seconds as annotated by the difference between time_start and time_end values\n",
    "\n",
    "**Next Steps**: to reduce the dimensionality, I need to create a function that will map a video file to a youtube id value in the video_annotations.csv file and create a new dataframe where we have a match. Data Cleaning required on the names of the video files"
   ]
  },
  {
   "cell_type": "code",
   "execution_count": 37,
   "metadata": {},
   "outputs": [
    {
     "name": "stdout",
     "output_type": "stream",
     "text": [
      "Total Youtube ID Values in Dataset: 19906\n"
     ]
    }
   ],
   "source": [
    "youtube_id_values = k400_df['youtube_id']\n",
    "print(f\"Total Youtube ID Values in Dataset: {youtube_id_values.count()}\")"
   ]
  },
  {
   "cell_type": "code",
   "execution_count": 38,
   "metadata": {},
   "outputs": [
    {
     "name": "stdout",
     "output_type": "stream",
     "text": [
      "Unique Youtube ID Values: 19906\n"
     ]
    }
   ],
   "source": [
    "# Get the amount of unique youtube_id\n",
    "number_unique_id = youtube_id_values.nunique()\n",
    "print(f\"Unique Youtube ID Values: {number_unique_id}\")"
   ]
  },
  {
   "cell_type": "code",
   "execution_count": 39,
   "metadata": {},
   "outputs": [
    {
     "data": {
      "text/plain": [
       "array(['0wR5jVB-WPk', '3caPS4FHFF8', '3yaoNwz99xM', ..., 'XWvGn7eI04A',\n",
       "       'yGdQwxP5koA', 'ZVDR2od1gn8'], dtype=object)"
      ]
     },
     "execution_count": 39,
     "metadata": {},
     "output_type": "execute_result"
    }
   ],
   "source": [
    "# Check for unique values\n",
    "unique_youtube_id = youtube_id_values.unique()\n",
    "unique_youtube_id"
   ]
  },
  {
   "cell_type": "markdown",
   "metadata": {},
   "source": [
    "Commenting out Tim's code to implement Pseudo Code and/or associated code with ChatGPT results"
   ]
  },
  {
   "cell_type": "code",
   "execution_count": null,
   "metadata": {},
   "outputs": [],
   "source": [
    "# # Get the number of video files we are working with\n",
    "\n",
    "# def count_video_files(directory):\n",
    "#     \"\"\"\n",
    "#     Purpose - to get a video file count within a given directory\n",
    "#     Arguments - directory variable that holds the filepath to a video directory\n",
    "#     Returns - video_count of type integer\n",
    "    \n",
    "#     \"\"\"\n",
    "#     # Set the allowed video file extensions\n",
    "#     video_extensions = ['.mp4', '.avi', '.mov', '.mkv', '.wmv', '.flv']\n",
    "\n",
    "#     # Initialize the count\n",
    "#     video_count = 0\n",
    "\n",
    "#     # Iterate through all files in the directory\n",
    "#     for file_path in glob.glob(os.path.join(directory, '*')):\n",
    "#         # Check if the file has a video file extension\n",
    "#         if os.path.isfile(file_path) and any(file_path.lower().endswith(ext) for ext in video_extensions):\n",
    "#             video_count += 1\n",
    "\n",
    "#     return video_count\n"
   ]
  },
  {
   "cell_type": "code",
   "execution_count": null,
   "metadata": {},
   "outputs": [],
   "source": [
    "# # Test Functionality and return video count\n",
    "\n",
    "# # Provide the directory path to count video files\n",
    "# directory_path = '../data/K400/videos'\n",
    "\n",
    "# # Call the function to count video files\n",
    "# num_videos = count_video_files(directory_path)\n",
    "# print(f'Total number of video files: {num_videos} videos present')"
   ]
  },
  {
   "cell_type": "markdown",
   "metadata": {},
   "source": [
    "### Video Observations\n",
    "\n",
    "1. There seems to be a match with the youtube_id values in the video_annotations.csv file and the initial naming convention of the video files.\n",
    "2. The videofile names have a timestamp that highlights how the 10second video frame was captured. \n",
    "\n",
    "**Next Steps**: In order to load in local video data correctly, I need to perform regular expressions to rename the video files to exclude the timestamps."
   ]
  },
  {
   "cell_type": "code",
   "execution_count": null,
   "metadata": {},
   "outputs": [],
   "source": [
    "# def remove_timestamp(filename):\n",
    "#     \"\"\"\n",
    "#     Purpose: to remove the timestampe suffix at the end of our local video files\n",
    "#     Arguments: filename \n",
    "#     Retunrs: Cleaned filename\n",
    "#     \"\"\"\n",
    "#     # Split the filename by underscores\n",
    "#     parts = filename.rsplit('_')\n",
    "\n",
    "#     # Filter out parts that are likely numbers\n",
    "#     cleaned_parts = [part for part in parts if not part.isdigit()]\n",
    "\n",
    "#     # Join the cleaned parts with underscores to form the new filename\n",
    "#     cleaned_filename = '_'.join(cleaned_parts)\n",
    "\n",
    "#     return cleaned_filename # Remove leading/trailing whitespaces\n"
   ]
  },
  {
   "cell_type": "code",
   "execution_count": null,
   "metadata": {},
   "outputs": [],
   "source": [
    "# def rename_files(directory):\n",
    "#     \"\"\"\n",
    "#     Purpose: To rename all the local video files in our directory for future loading \n",
    "#     Arguments: Filepath to the video directory\n",
    "#     Returns: None\n",
    "\n",
    "#     Other Functions: Calls the remove_timestamp()\n",
    "#     \"\"\"\n",
    "#     # Iterate through all files in the directory\n",
    "#     for filename in os.listdir(directory):\n",
    "#         # Check if the file is a regular file (not a directory)\n",
    "#         if os.path.isfile(os.path.join(directory, filename)):\n",
    "#             # Remove timestamp from the filename\n",
    "#             new_filename = remove_timestamp(filename)\n",
    "#             # Rename the file if the filename has changed\n",
    "#             if new_filename != filename:\n",
    "#                 os.rename(os.path.join(directory, filename),\n",
    "#                           os.path.join(directory, new_filename))"
   ]
  },
  {
   "cell_type": "code",
   "execution_count": null,
   "metadata": {},
   "outputs": [],
   "source": [
    "# # Test\n",
    "# video_directory = \"../data/K400/videos\"\n",
    "\n",
    "# rename_files(video_directory)"
   ]
  },
  {
   "cell_type": "code",
   "execution_count": null,
   "metadata": {},
   "outputs": [],
   "source": [
    "# video_directory = '../data/K400/videos'\n",
    "\n",
    "# # Iterate through each YouTube ID\n",
    "# for youtube_id in youtube_id_values:\n",
    "#     # Find the corresponding video file in the directory\n",
    "#     for filename in os.listdir(video_directory):\n",
    "#         if youtube_id in filename:\n",
    "#             # Extract the file extension\n",
    "#             file_extension = os.path.splitext(filename)[1]\n",
    "\n",
    "#             # Construct the new file name without the timestamp\n",
    "#             new_filename = youtube_id + file_extension\n",
    "\n",
    "#             # Construct the full paths for old and new files\n",
    "#             old_filepath = os.path.join(video_directory, filename)\n",
    "#             new_filepath = os.path.join(video_directory, new_filename)\n",
    "\n",
    "#             # Rename the file\n",
    "#             os.rename(old_filepath, new_filepath)\n",
    "#             print(f'Renamed {filename} to {new_filename}')\n",
    "#             break"
   ]
  },
  {
   "cell_type": "markdown",
   "metadata": {},
   "source": [
    "### Observations\n",
    "\n",
    "Removed the start_time portion of the timestamp, but left the end_time timestamp in the video file name"
   ]
  },
  {
   "cell_type": "markdown",
   "metadata": {},
   "source": [
    "*** Ending of section COMMENTED OUT by Afia on Tuesday (April 23) ****"
   ]
  },
  {
   "cell_type": "markdown",
   "metadata": {},
   "source": [
    "1st Attempt at running this block of code below had an issue with the video_name since there is no column in video_annotations.csv"
   ]
  },
  {
   "cell_type": "code",
   "execution_count": 41,
   "metadata": {},
   "outputs": [],
   "source": [
    "# import os\n",
    "# import pandas as pd\n",
    "\n",
    "# # Function to compare contents of CSV file with contents of folder\n",
    "# def compare_csv_with_folder(csv_file, folder_path):\n",
    "#     # Read CSV file\n",
    "#     df = pd.read_csv(csv_file)\n",
    "    \n",
    "#     # Loop through each row in the dataframe\n",
    "#     for index, row in df.iterrows():\n",
    "#         youtube_id = row['youtube_id']\n",
    "#         video_name = row['video_name']\n",
    "        \n",
    "#         # Search for video with youtube_id in folder\n",
    "#         for filename in os.listdir(folder_path):\n",
    "#             if youtube_id in filename:\n",
    "#                 # Rename video file\n",
    "#                 old_file_path = os.path.join(folder_path, filename)\n",
    "#                 new_file_path = os.path.join(folder_path, f\"{youtube_id}.mp4\")\n",
    "#                 os.rename(old_file_path, new_file_path)\n",
    "#                 print(f\"Renamed {filename} to {youtube_id}.mp4\")\n",
    "#                 # Update dataframe\n",
    "#                 df.at[index, 'video_name'] = f\"{youtube_id}.mp4\"\n",
    "#                 break\n",
    "    \n",
    "#     # Write updated dataframe to CSV\n",
    "#     df.to_csv(csv_file, index=False)\n",
    "#     print(\"CSV file updated successfully\")\n",
    "\n",
    "# # Specify paths to CSV file and folder\n",
    "# csv_file = \"../data/K400/video_annotations.csv\"\n",
    "# folder_path = \"../data/K400/videos\"\n",
    "\n",
    "# # Call function to compare CSV with folder\n",
    "# compare_csv_with_folder(csv_file, folder_path)\n"
   ]
  },
  {
   "cell_type": "markdown",
   "metadata": {},
   "source": [
    "Intermediary Step to get the video filenames into a csv"
   ]
  },
  {
   "cell_type": "code",
   "execution_count": 42,
   "metadata": {},
   "outputs": [
    {
     "name": "stdout",
     "output_type": "stream",
     "text": [
      "CSV file created successfully\n"
     ]
    }
   ],
   "source": [
    "import os\n",
    "import csv\n",
    "\n",
    "# Function to get video names from a folder and save them in a CSV file\n",
    "def videos_to_csv(folder_path, csv_file):\n",
    "    # Get list of video files in the folder\n",
    "    video_files = [filename for filename in os.listdir(folder_path) if filename.endswith(('.mp4', '.avi', '.mov', '.mkv'))]\n",
    "\n",
    "    # Write video names to CSV file\n",
    "    with open(csv_file, mode='w', newline='') as file:\n",
    "        writer = csv.writer(file)\n",
    "        writer.writerow(['video_name'])\n",
    "        for video_name in video_files:\n",
    "            writer.writerow([video_name])\n",
    "    print(\"CSV file created successfully\")\n",
    "\n",
    "# Specify path to the folder containing videos\n",
    "folder_path = \"../data/K400/videos\"\n",
    "\n",
    "# Specify path to the CSV file to be created\n",
    "csv_file = \"../data/K400/video_names.csv\" \n",
    "\n",
    "# Call the function to extract video names and save them in the CSV file\n",
    "videos_to_csv(folder_path, csv_file)\n"
   ]
  },
  {
   "cell_type": "markdown",
   "metadata": {},
   "source": [
    "Observations: Only 1,138 rows of video_names were extracted from the folder"
   ]
  },
  {
   "cell_type": "markdown",
   "metadata": {},
   "source": [
    "2nd Attempt of previous code block being run here. Found out at 7:56 PM ET on Tuesday (April 23) that Tim has already moved on from this issue"
   ]
  },
  {
   "cell_type": "code",
   "execution_count": null,
   "metadata": {},
   "outputs": [],
   "source": [
    "# import os\n",
    "# import pandas as pd\n",
    "\n",
    "# # Function to compare contents of CSV file with contents of folder\n",
    "# def compare_csv_with_folder(csv_file, folder_path):\n",
    "#     # Read CSV file\n",
    "#     df = pd.read_csv(csv_file)\n",
    "    \n",
    "#     # Loop through each row in the dataframe\n",
    "#     for index, row in df.iterrows():\n",
    "#         youtube_id = row['youtube_id']\n",
    "#         video_name = row['video_name']\n",
    "        \n",
    "#         # Search for video with youtube_id in folder\n",
    "#         for filename in os.listdir(folder_path):\n",
    "#             if youtube_id in filename:\n",
    "#                 # Rename video file\n",
    "#                 old_file_path = os.path.join(folder_path, filename)\n",
    "#                 new_file_path = os.path.join(folder_path, f\"{youtube_id}.mp4\")\n",
    "#                 os.rename(old_file_path, new_file_path)\n",
    "#                 print(f\"Renamed {filename} to {youtube_id}.mp4\")\n",
    "#                 # Update dataframe\n",
    "#                 df.at[index, 'video_name'] = f\"{youtube_id}.mp4\"\n",
    "#                 break\n",
    "    \n",
    "#     # Write updated dataframe to CSV\n",
    "#     df.to_csv(csv_file, index=False)\n",
    "#     print(\"CSV file updated successfully\")\n",
    "\n",
    "# # Specify paths to CSV file and folder\n",
    "# csv_file = \"../data/K400/video_annotations.csv\"\n",
    "# folder_path = \"../data/K400/videos\"\n",
    "\n",
    "# # Call function to compare CSV with folder\n",
    "# compare_csv_with_folder(csv_file, folder_path)\n"
   ]
  },
  {
   "cell_type": "code",
   "execution_count": 46,
   "metadata": {},
   "outputs": [
    {
     "name": "stdout",
     "output_type": "stream",
     "text": [
      "Renamed 0wR5jVB-WPk_000417_000427.mp4 to 0wR5jVB-WPk.mp4\n"
     ]
    },
    {
     "ename": "OSError",
     "evalue": "[WinError 123] The filename, directory name, or volume label syntax is incorrect: '../data/K400/videos\\\\#NAME?' -> '../data/K400/videos\\\\#NAME?.mp4'",
     "output_type": "error",
     "traceback": [
      "\u001b[1;31m---------------------------------------------------------------------------\u001b[0m",
      "\u001b[1;31mOSError\u001b[0m                                   Traceback (most recent call last)",
      "Cell \u001b[1;32mIn[46], line 34\u001b[0m\n\u001b[0;32m     32\u001b[0m folder_path \u001b[38;5;241m=\u001b[39m \u001b[38;5;124mr\u001b[39m\u001b[38;5;124m\"\u001b[39m\u001b[38;5;124m../data/K400/videos\u001b[39m\u001b[38;5;124m\"\u001b[39m\n\u001b[0;32m     33\u001b[0m \u001b[38;5;66;03m# Call function to rename video files\u001b[39;00m\n\u001b[1;32m---> 34\u001b[0m \u001b[43mrename_videos\u001b[49m\u001b[43m(\u001b[49m\u001b[43mvideo_annotations_file\u001b[49m\u001b[43m,\u001b[49m\u001b[43m \u001b[49m\u001b[43mvideo_names_file\u001b[49m\u001b[43m,\u001b[49m\u001b[43m \u001b[49m\u001b[43mfolder_path\u001b[49m\u001b[43m)\u001b[49m\n",
      "Cell \u001b[1;32mIn[46], line 25\u001b[0m, in \u001b[0;36mrename_videos\u001b[1;34m(video_annotations_file, video_names_file, folder_path)\u001b[0m\n\u001b[0;32m     23\u001b[0m old_file_path \u001b[38;5;241m=\u001b[39m os\u001b[38;5;241m.\u001b[39mpath\u001b[38;5;241m.\u001b[39mjoin(folder_path, video_name)\n\u001b[0;32m     24\u001b[0m new_file_path \u001b[38;5;241m=\u001b[39m os\u001b[38;5;241m.\u001b[39mpath\u001b[38;5;241m.\u001b[39mjoin(folder_path, \u001b[38;5;124mf\u001b[39m\u001b[38;5;124m\"\u001b[39m\u001b[38;5;132;01m{\u001b[39;00myoutube_id\u001b[38;5;132;01m}\u001b[39;00m\u001b[38;5;124m.mp4\u001b[39m\u001b[38;5;124m\"\u001b[39m)\n\u001b[1;32m---> 25\u001b[0m \u001b[43mos\u001b[49m\u001b[38;5;241;43m.\u001b[39;49m\u001b[43mrename\u001b[49m\u001b[43m(\u001b[49m\u001b[43mold_file_path\u001b[49m\u001b[43m,\u001b[49m\u001b[43m \u001b[49m\u001b[43mnew_file_path\u001b[49m\u001b[43m)\u001b[49m\n\u001b[0;32m     26\u001b[0m \u001b[38;5;28mprint\u001b[39m(\u001b[38;5;124mf\u001b[39m\u001b[38;5;124m\"\u001b[39m\u001b[38;5;124mRenamed \u001b[39m\u001b[38;5;132;01m{\u001b[39;00mvideo_name\u001b[38;5;132;01m}\u001b[39;00m\u001b[38;5;124m to \u001b[39m\u001b[38;5;132;01m{\u001b[39;00myoutube_id\u001b[38;5;132;01m}\u001b[39;00m\u001b[38;5;124m.mp4\u001b[39m\u001b[38;5;124m\"\u001b[39m)\n\u001b[0;32m     27\u001b[0m \u001b[38;5;28;01mbreak\u001b[39;00m\n",
      "\u001b[1;31mOSError\u001b[0m: [WinError 123] The filename, directory name, or volume label syntax is incorrect: '../data/K400/videos\\\\#NAME?' -> '../data/K400/videos\\\\#NAME?.mp4'"
     ]
    }
   ],
   "source": [
    "import os\n",
    "import pandas as pd\n",
    "\n",
    "# Function to rename video files based on youtube_id\n",
    "def rename_videos(video_annotations_file, video_names_file, folder_path):\n",
    "    # Read video annotations CSV\n",
    "    video_annotations_df = pd.read_csv(video_annotations_file)\n",
    "\n",
    "    # Read video names CSV\n",
    "    video_names_df = pd.read_csv(video_names_file)\n",
    "\n",
    "    # Iterate through each row in video annotations\n",
    "    for index_ann, row_ann in video_annotations_df.iterrows():\n",
    "        youtube_id = row_ann['youtube_id']\n",
    "        \n",
    "        # Iterate through each row in video names\n",
    "        for index_name, row_name in video_names_df.iterrows():\n",
    "            video_name = row_name['video_name']\n",
    "            \n",
    "            # Check if youtube_id is in video_name\n",
    "            if str(youtube_id) in video_name:\n",
    "                # Rename video file\n",
    "                old_file_path = os.path.join(folder_path, video_name)\n",
    "                new_file_path = os.path.join(folder_path, f\"{youtube_id}.mp4\")\n",
    "                os.rename(old_file_path, new_file_path)\n",
    "                print(f\"Renamed {video_name} to {youtube_id}.mp4\")\n",
    "                break\n",
    "\n",
    "# Specify paths to CSV files and folder\n",
    "video_annotations_file = r\"../data/K400/video_annotations.csv\"\n",
    "video_names_file = r\"../data/K400/video_names.csv\"\n",
    "folder_path = r\"../data/K400/videos\"\n",
    "# Call function to rename video files\n",
    "rename_videos(video_annotations_file, video_names_file, folder_path)\n"
   ]
  },
  {
   "cell_type": "code",
   "execution_count": null,
   "metadata": {},
   "outputs": [],
   "source": []
  },
  {
   "cell_type": "markdown",
   "metadata": {},
   "source": [
    "### Define Hyperparameters"
   ]
  },
  {
   "cell_type": "code",
   "execution_count": null,
   "metadata": {},
   "outputs": [],
   "source": [
    "IMG_SIZE = 224\n",
    "BATCH_SIZE = 64\n",
    "EPOCHS = 10\n",
    "\n",
    "MAX_SEQ_LENGTH = 20\n",
    "NUM_FEATURES = 2048"
   ]
  },
  {
   "cell_type": "markdown",
   "metadata": {},
   "source": [
    "### Data Preparation"
   ]
  },
  {
   "cell_type": "code",
   "execution_count": null,
   "metadata": {},
   "outputs": [],
   "source": [
    "split_percent = .30\n",
    "\n",
    "# Split the k400_df into test and train df\n",
    "\n",
    "# Split the dataframe into train and test using pd.sample()\n",
    "test_df = k400_df.sample(frac=split_percent, random_state=42)\n",
    "train_df = k400_df.drop(test_df.index)\n",
    "\n",
    "# Reset the index of the new dataframes\n",
    "test_df.reset_index(drop=True, inplace=True)\n",
    "train_df.reset_index(drop=True, inplace=True)"
   ]
  },
  {
   "cell_type": "code",
   "execution_count": null,
   "metadata": {},
   "outputs": [],
   "source": [
    "test_df"
   ]
  },
  {
   "cell_type": "code",
   "execution_count": null,
   "metadata": {},
   "outputs": [],
   "source": [
    "train_df"
   ]
  },
  {
   "cell_type": "markdown",
   "metadata": {},
   "source": [
    "### Notes\n",
    "\n",
    "train_df has 13934 Rows with 6 Attributes\n",
    "\n",
    "test_df has 5972 rows"
   ]
  },
  {
   "cell_type": "code",
   "execution_count": null,
   "metadata": {},
   "outputs": [],
   "source": [
    "\n",
    "def crop_center_square(frame):\n",
    "    y, x = frame.shape[0:2]\n",
    "    min_dim = min(y, x)\n",
    "    start_x = (x // 2) - (min_dim // 2)\n",
    "    start_y = (y // 2) - (min_dim // 2)\n",
    "    return frame[start_y : start_y + min_dim, start_x : start_x + min_dim]"
   ]
  },
  {
   "cell_type": "code",
   "execution_count": null,
   "metadata": {},
   "outputs": [],
   "source": [
    "def load_video(path, max_frames=0, resize=(IMG_SIZE, IMG_SIZE)):\n",
    "    cap = cv2.VideoCapture(path)\n",
    "    frames = []\n",
    "    try:\n",
    "        while True:\n",
    "            ret, frame = cap.read()\n",
    "            if not ret:\n",
    "                break\n",
    "            frame = crop_center_square(frame)\n",
    "            frame = cv2.resize(frame, resize)\n",
    "            frame = frame[:, :, [2, 1, 0]]\n",
    "            frames.append(frame)\n",
    "\n",
    "            if len(frames) == max_frames:\n",
    "                break\n",
    "    finally:\n",
    "        cap.release()\n",
    "    return np.array(frames)"
   ]
  }
 ],
 "metadata": {
  "kernelspec": {
   "display_name": "TechEx_Project_3",
   "language": "python",
   "name": "python3"
  },
  "language_info": {
   "codemirror_mode": {
    "name": "ipython",
    "version": 3
   },
   "file_extension": ".py",
   "mimetype": "text/x-python",
   "name": "python",
   "nbconvert_exporter": "python",
   "pygments_lexer": "ipython3",
   "version": "3.10.12"
  }
 },
 "nbformat": 4,
 "nbformat_minor": 2
}
